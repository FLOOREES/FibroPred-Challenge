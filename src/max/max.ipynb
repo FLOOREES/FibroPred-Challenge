{
 "cells": [
  {
   "cell_type": "code",
   "execution_count": 2,
   "metadata": {},
   "outputs": [],
   "source": [
    "import pandas as pd"
   ]
  },
  {
   "cell_type": "code",
   "execution_count": 6,
   "metadata": {},
   "outputs": [],
   "source": [
    "db = pd.read_csv('C:/Users/USER/Desktop/Personal/Bits/FibroPred-Challenge/data/output.csv')"
   ]
  },
  {
   "cell_type": "code",
   "execution_count": 8,
   "metadata": {},
   "outputs": [],
   "source": [
    "items = [\n",
    "    \"COD NUMBER\",\n",
    "    \"Detail\",\n",
    "    \"Treatment\",\n",
    "    \"Detail on NON UIP\",\n",
    "    \"Biopsy\",\n",
    "    \"Pathology pattern UIP, probable or CHP\",\n",
    "    \"Pathology pattern\",\n",
    "    \"Extras AP\",\n",
    "    \"Diagnosis after Biopsy\",\n",
    "    \"Type of telomeric extrapulmonary affectation\",\n",
    "    \"Extra\",\n",
    "    \"Type of neoplasia\",\n",
    "    \"Liver abnormality before diagnosis\",\n",
    "    \"Hematological abnormality before diagnosis\",\n",
    "    \"Type of liver abnormality\",\n",
    "    \"Necessity of transplantation\",\n",
    "    \"Cause of death\",\n",
    "    \"Identified Infection\",\n",
    "    \"Date of death\",\n",
    "    \"Pedigree\",\n",
    "    \"FamilialvsSporadic\",\n",
    "    \"Mutation Type\",\n",
    "    \"Severity of telomere shortening - Transform 4\",\n",
    "    \"ProgressiveDisease\"\n",
    "]\n",
    "db2 = db.drop(items, axis=1)"
   ]
  },
  {
   "cell_type": "code",
   "execution_count": 12,
   "metadata": {},
   "outputs": [
    {
     "name": "stdout",
     "output_type": "stream",
     "text": [
      "2494 309\n"
     ]
    }
   ],
   "source": [
    "print(db.isna().sum().sum(), db2.isna().sum().sum())"
   ]
  },
  {
   "cell_type": "code",
   "execution_count": 14,
   "metadata": {},
   "outputs": [
    {
     "name": "stdout",
     "output_type": "stream",
     "text": [
      "Sex                                      object\n",
      "Age at diagnosis                        float64\n",
      "Binary diagnosis                         object\n",
      "Final diagnosis                           int64\n",
      "TOBACCO                                   int64\n",
      "Comorbidities                             int64\n",
      "Radiological Pattern                     object\n",
      "Pathology Pattern Binary                 object\n",
      "Multidsciplinary committee              float64\n",
      "Pirfenidone                               int64\n",
      "Nintedanib                                int64\n",
      "Antifibrotic Drug                         int64\n",
      "Prednisone                                int64\n",
      "Mycophenolate                             int64\n",
      "Treatment                                object\n",
      "Extrapulmonary affectation              float64\n",
      "Associated lung cancer                  float64\n",
      "Other cancer                            float64\n",
      "Blood count abnormality at diagnosis    float64\n",
      "Anemia                                  float64\n",
      "Thrombocytopenia                        float64\n",
      "Thrombocytosis                          float64\n",
      "Lymphocytosis                           float64\n",
      "Lymphopenia                             float64\n",
      "Neutrophilia                            float64\n",
      "Neutropenia                             float64\n",
      "Leukocytosis                            float64\n",
      "Leukopenia                              float64\n",
      "Hematologic Disease                      object\n",
      "Liver abnormality                        object\n",
      "LDH                                       int64\n",
      "ALT                                       int64\n",
      "AST                                       int64\n",
      "ALP                                       int64\n",
      "GGT                                       int64\n",
      "Transaminitis                             int64\n",
      "Cholestasis                               int64\n",
      "Liver disease                            object\n",
      "FVC (L) at diagnosis                    float64\n",
      "FVC (%) at diagnosis                    float64\n",
      "DLCO (%) at diagnosis                   float64\n",
      "FVC (L) 1 year after diagnosis          float64\n",
      "FVC (%) 1 year after diagnosis          float64\n",
      "DLCO (%) 1 year after diagnosis         float64\n",
      "RadioWorsening2y                        float64\n",
      "Transplantation date                     object\n",
      "Death                                    object\n",
      "Type of family history                   object\n",
      "1st degree relative                       int64\n",
      "2nd degree relative                       int64\n",
      "More than 1 relative                      int64\n",
      "Genetic mutation studied in patient     float64\n",
      "Severity of telomere shortening         float64\n",
      "Progressive disease                     float64\n",
      "dtype: object\n"
     ]
    }
   ],
   "source": [
    "column_types = db2.dtypes\n",
    "print(column_types)\n",
    "to_int64 = [\"Age at diagnosis\",\n",
    "    \"Multidisplinary committee\",\n",
    "    \"Extrapulmonary affectation\",\n",
    "    \"Associated lung cancer\",\n",
    "    \"Other cancer\",\n",
    "    \"Blood count abnormality at diagnosis\",\n",
    "    \"Anemia\",\n",
    "    \"Thrombocytopenia\",\n",
    "    \"Thrombocytosis\",\n",
    "    \"Lymphocytosis\",\n",
    "    \"Lymphopenia\",\n",
    "    \"Neutrophilia\",\n",
    "    \"Neutropenia\",\n",
    "    \"Leukocytosis\",\n",
    "    \"Leukopenia\",\n",
    "    \"Severity of telomere shortening\",\n",
    "    \"RadioWorsening2y\"\n",
    "]\n"
   ]
  },
  {
   "cell_type": "markdown",
   "metadata": {},
   "source": []
  },
  {
   "cell_type": "markdown",
   "metadata": {},
   "source": [
    "# HASTA AQUI"
   ]
  },
  {
   "cell_type": "code",
   "execution_count": 10,
   "metadata": {},
   "outputs": [
    {
     "data": {
      "text/plain": [
       "Index(['Pedigree', 'Sex', 'FamilialvsSporadic', 'COD NUMBER',\n",
       "       'Age at diagnosis', 'Binary diagnosis', 'Final diagnosis', 'TOBACCO',\n",
       "       'Detail', 'Comorbidities', 'Radiological Pattern', 'Detail on NON UIP',\n",
       "       'Biopsy', 'Pathology Pattern Binary',\n",
       "       'Pathology pattern UIP, probable or CHP', 'Pathology pattern',\n",
       "       'Extras AP', 'Diagnosis after Biopsy', 'Multidsciplinary committee',\n",
       "       'Pirfenidone', 'Nintedanib', 'Antifibrotic Drug', 'Prednisone',\n",
       "       'Mycophenolate', 'Treatment', 'Extrapulmonary affectation',\n",
       "       'Type of telomeric extrapulmonary affectation', 'Extra',\n",
       "       'Associated lung cancer', 'Other cancer', 'Type of neoplasia',\n",
       "       'Hematological abnormality before diagnosis',\n",
       "       'Blood count abnormality at diagnosis', 'Anemia', 'Thrombocytopenia',\n",
       "       'Thrombocytosis', 'Lymphocytosis', 'Lymphopenia', 'Neutrophilia',\n",
       "       'Neutropenia', 'Leukocytosis', 'Leukopenia', 'Hematologic Disease',\n",
       "       'Liver abnormality before diagnosis', 'Liver abnormality', 'LDH', 'ALT',\n",
       "       'AST', 'ALP', 'GGT', 'Transaminitis', 'Cholestasis',\n",
       "       'Type of liver abnormality', 'Liver disease', 'FVC (L) at diagnosis',\n",
       "       'FVC (%) at diagnosis', 'DLCO (%) at diagnosis',\n",
       "       'FVC (L) 1 year after diagnosis', 'FVC (%) 1 year after diagnosis',\n",
       "       'DLCO (%) 1 year after diagnosis', 'RadioWorsening2y',\n",
       "       'Necessity of transplantation', 'Transplantation date', 'Death',\n",
       "       'Cause of death', 'Identified Infection', 'Date of death',\n",
       "       'Type of family history', '1st degree relative', '2nd degree relative',\n",
       "       'More than 1 relative', 'Genetic mutation studied in patient',\n",
       "       'Mutation Type', 'Severity of telomere shortening',\n",
       "       'Severity of telomere shortening - Transform 4', 'Progressive disease',\n",
       "       'ProgressiveDisease'],\n",
       "      dtype='object')"
      ]
     },
     "execution_count": 10,
     "metadata": {},
     "output_type": "execute_result"
    }
   ],
   "source": [
    "db.columns"
   ]
  },
  {
   "cell_type": "code",
   "execution_count": 46,
   "metadata": {},
   "outputs": [
    {
     "name": "stdout",
     "output_type": "stream",
     "text": [
      "4 (222, 76)\n",
      "0 (218, 76)\n"
     ]
    }
   ],
   "source": [
    "print(db['Death'].isnull().sum(), db.shape)\n",
    "db = db.dropna(subset=['Death'])\n",
    "print(db['Death'].isnull().sum(), db.shape)\n"
   ]
  },
  {
   "cell_type": "code",
   "execution_count": 47,
   "metadata": {},
   "outputs": [
    {
     "name": "stdout",
     "output_type": "stream",
     "text": [
      "8 (218, 76)\n",
      "0 (210, 76)\n"
     ]
    }
   ],
   "source": [
    "print(db['Progressive disease'].isnull().sum(), db.shape)\n",
    "db = db.dropna(subset=['Progressive disease'])\n",
    "print(db['Progressive disease'].isnull().sum(), db.shape)"
   ]
  },
  {
   "cell_type": "code",
   "execution_count": 60,
   "metadata": {},
   "outputs": [],
   "source": [
    "threshold = len(db) * 0.3\n",
    "db1 = db.dropna(thresh=threshold, axis=1)"
   ]
  },
  {
   "cell_type": "code",
   "execution_count": 61,
   "metadata": {},
   "outputs": [
    {
     "name": "stdout",
     "output_type": "stream",
     "text": [
      "2278\n",
      "654\n"
     ]
    }
   ],
   "source": [
    "db1.shape\n",
    "print(db.isna().sum().sum())\n",
    "print(db1.isna().sum().sum())"
   ]
  },
  {
   "cell_type": "code",
   "execution_count": 62,
   "metadata": {},
   "outputs": [
    {
     "name": "stdout",
     "output_type": "stream",
     "text": [
      "(209, 67)\n",
      "640\n"
     ]
    }
   ],
   "source": [
    "threshold = len(db.columns) * 0.75\n",
    "db_cleaned = db1.dropna(thresh=threshold)\n",
    "print(db_cleaned.shape)\n",
    "print(db_cleaned.isna().sum().sum())"
   ]
  },
  {
   "cell_type": "code",
   "execution_count": 63,
   "metadata": {},
   "outputs": [
    {
     "name": "stdout",
     "output_type": "stream",
     "text": [
      "Pedigree                                         0\n",
      "Sex                                              0\n",
      "FamilialvsSporadic                               0\n",
      "COD NUMBER                                       0\n",
      "Age at diagnosis                                 0\n",
      "                                                ..\n",
      "More than 1 relative                             0\n",
      "Genetic mutation studied in patient              0\n",
      "Severity of telomere shortening                  0\n",
      "Severity of telomere shortening - Transform 4    0\n",
      "Progressive disease                              0\n",
      "Length: 67, dtype: int64\n"
     ]
    },
    {
     "name": "stderr",
     "output_type": "stream",
     "text": [
      "C:\\Users\\USER\\AppData\\Local\\Temp\\ipykernel_10080\\3066191376.py:11: SettingWithCopyWarning: \n",
      "A value is trying to be set on a copy of a slice from a DataFrame.\n",
      "Try using .loc[row_indexer,col_indexer] = value instead\n",
      "\n",
      "See the caveats in the documentation: https://pandas.pydata.org/pandas-docs/stable/user_guide/indexing.html#returning-a-view-versus-a-copy\n",
      "  db_cleaned[numerical_cols] = imputer.fit_transform(db_cleaned[numerical_cols])\n"
     ]
    }
   ],
   "source": [
    "from sklearn.experimental import enable_iterative_imputer\n",
    "from sklearn.impute import IterativeImputer\n",
    "\n",
    "# Select only the numerical columns\n",
    "numerical_cols = db_cleaned.select_dtypes(include=['float64', 'int64']).columns\n",
    "\n",
    "# Initialize the IterativeImputer\n",
    "imputer = IterativeImputer(max_iter=10, random_state=0)\n",
    "\n",
    "# Fit and transform the data\n",
    "db_cleaned[numerical_cols] = imputer.fit_transform(db_cleaned[numerical_cols])\n",
    "\n",
    "# Check the result\n",
    "print(db_cleaned.isna().sum())"
   ]
  },
  {
   "cell_type": "code",
   "execution_count": 68,
   "metadata": {},
   "outputs": [
    {
     "name": "stdout",
     "output_type": "stream",
     "text": [
      "0 (198, 67)\n",
      "0 (198, 67)\n",
      "4 (198, 67)\n",
      "0 (194, 67)\n",
      "ALT                                 0\n",
      "AST                                 0\n",
      "ALP                                 0\n",
      "GGT                                 0\n",
      "Transaminitis                       0\n",
      "Cholestasis                         0\n",
      "Liver disease                       3\n",
      "FVC (L) at diagnosis                0\n",
      "FVC (%) at diagnosis                0\n",
      "DLCO (%) at diagnosis               0\n",
      "FVC (L) 1 year after diagnosis      0\n",
      "FVC (%) 1 year after diagnosis      0\n",
      "DLCO (%) 1 year after diagnosis     0\n",
      "RadioWorsening2y                    0\n",
      "Necessity of transplantation        0\n",
      "Transplantation date                0\n",
      "Death                               0\n",
      "Cause of death                     34\n",
      "Date of death                       0\n",
      "Type of family history              1\n",
      "dtype: int64\n"
     ]
    }
   ],
   "source": [
    "print(db_cleaned['Date of death'].isnull().sum(), db_cleaned.shape)\n",
    "db_cleaned = db_cleaned.dropna(subset=['Date of death'])\n",
    "print(db_cleaned['Date of death'].isnull().sum(), db_cleaned.shape)\n",
    "print(db_cleaned[\"Transplantation date\"].isnull().sum(), db_cleaned.shape)\n",
    "db_cleaned = db_cleaned.dropna(subset=['Transplantation date'])\n",
    "print(db_cleaned[\"Transplantation date\"].isnull().sum(), db_cleaned.shape)"
   ]
  },
  {
   "cell_type": "code",
   "execution_count": null,
   "metadata": {},
   "outputs": [],
   "source": [
    "# print(db_cleaned.iloc[:,40:60].isna().sum())\n",
    "print(db_cleaned.isna().sum().sum())\n",
    "for row in range(db_cleaned.shape[0]):\n",
    "    l=db_cleaned.iloc[row, :].isna().sum()\n",
    "    if l>0:\n",
    "        print(row, l)\n"
   ]
  },
  {
   "cell_type": "code",
   "execution_count": 83,
   "metadata": {},
   "outputs": [
    {
     "name": "stdout",
     "output_type": "stream",
     "text": [
      "0\n"
     ]
    },
    {
     "name": "stderr",
     "output_type": "stream",
     "text": [
      "C:\\Users\\USER\\AppData\\Local\\Temp\\ipykernel_10080\\1414382188.py:6: FutureWarning: A value is trying to be set on a copy of a DataFrame or Series through chained assignment using an inplace method.\n",
      "The behavior will change in pandas 3.0. This inplace method will never work because the intermediate object on which we are setting values always behaves as a copy.\n",
      "\n",
      "For example, when doing 'df[col].method(value, inplace=True)', try using 'df.method({col: value}, inplace=True)' or df[col] = df[col].method(value) instead, to perform the operation inplace on the original object.\n",
      "\n",
      "\n",
      "  db_test[col].fillna(db_test[col].mode()[0], inplace=True)\n"
     ]
    }
   ],
   "source": [
    "# Select only the categorical columns\n",
    "categorical_cols = db_cleaned.select_dtypes(include=['object']).columns\n",
    "db_test = db_cleaned.copy()\n",
    "# Impute missing values in categorical columns with the mode\n",
    "for col in categorical_cols:\n",
    "    db_test[col].fillna(db_test[col].mode()[0], inplace=True)\n",
    "\n",
    "# Check the result\n",
    "print(db_test.isna().sum().sum())"
   ]
  },
  {
   "cell_type": "code",
   "execution_count": 84,
   "metadata": {},
   "outputs": [
    {
     "data": {
      "text/plain": [
       "(194, 67)"
      ]
     },
     "execution_count": 84,
     "metadata": {},
     "output_type": "execute_result"
    }
   ],
   "source": [
    "db_test.shape"
   ]
  },
  {
   "cell_type": "code",
   "execution_count": null,
   "metadata": {},
   "outputs": [],
   "source": [
    "from sklearn.preprocessing import train_test_split\n"
   ]
  }
 ],
 "metadata": {
  "kernelspec": {
   "display_name": ".venv",
   "language": "python",
   "name": "python3"
  },
  "language_info": {
   "codemirror_mode": {
    "name": "ipython",
    "version": 3
   },
   "file_extension": ".py",
   "mimetype": "text/x-python",
   "name": "python",
   "nbconvert_exporter": "python",
   "pygments_lexer": "ipython3",
   "version": "3.12.8"
  }
 },
 "nbformat": 4,
 "nbformat_minor": 2
}
