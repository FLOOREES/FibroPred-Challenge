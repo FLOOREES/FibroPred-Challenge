{
 "cells": [
  {
   "cell_type": "code",
   "execution_count": 3,
   "metadata": {},
   "outputs": [],
   "source": [
    "import pandas as pd\n",
    "from sklearn.model_selection import train_test_split\n",
    "import matplotlib.pyplot as plt   "
   ]
  },
  {
   "cell_type": "code",
   "execution_count": 2,
   "metadata": {},
   "outputs": [
    {
     "name": "stdout",
     "output_type": "stream",
     "text": [
      "Collecting matplotlib\n",
      "  Downloading matplotlib-3.10.0-cp312-cp312-win_amd64.whl.metadata (11 kB)\n",
      "Collecting contourpy>=1.0.1 (from matplotlib)\n",
      "  Downloading contourpy-1.3.1-cp312-cp312-win_amd64.whl.metadata (5.4 kB)\n",
      "Collecting cycler>=0.10 (from matplotlib)\n",
      "  Using cached cycler-0.12.1-py3-none-any.whl.metadata (3.8 kB)\n",
      "Collecting fonttools>=4.22.0 (from matplotlib)\n",
      "  Downloading fonttools-4.55.3-cp312-cp312-win_amd64.whl.metadata (168 kB)\n",
      "Collecting kiwisolver>=1.3.1 (from matplotlib)\n",
      "  Using cached kiwisolver-1.4.7-cp312-cp312-win_amd64.whl.metadata (6.4 kB)\n",
      "Requirement already satisfied: numpy>=1.23 in c:\\users\\user\\desktop\\personal\\bits\\.venv\\lib\\site-packages (from matplotlib) (2.2.0)\n",
      "Requirement already satisfied: packaging>=20.0 in c:\\users\\user\\desktop\\personal\\bits\\.venv\\lib\\site-packages (from matplotlib) (24.2)\n",
      "Collecting pillow>=8 (from matplotlib)\n",
      "  Downloading pillow-11.0.0-cp312-cp312-win_amd64.whl.metadata (9.3 kB)\n",
      "Collecting pyparsing>=2.3.1 (from matplotlib)\n",
      "  Downloading pyparsing-3.2.0-py3-none-any.whl.metadata (5.0 kB)\n",
      "Requirement already satisfied: python-dateutil>=2.7 in c:\\users\\user\\desktop\\personal\\bits\\.venv\\lib\\site-packages (from matplotlib) (2.9.0.post0)\n",
      "Requirement already satisfied: six>=1.5 in c:\\users\\user\\desktop\\personal\\bits\\.venv\\lib\\site-packages (from python-dateutil>=2.7->matplotlib) (1.17.0)\n",
      "Downloading matplotlib-3.10.0-cp312-cp312-win_amd64.whl (8.0 MB)\n",
      "   ---------------------------------------- 0.0/8.0 MB ? eta -:--:--\n",
      "   -- ------------------------------------- 0.5/8.0 MB 3.4 MB/s eta 0:00:03\n",
      "   ------ --------------------------------- 1.3/8.0 MB 3.5 MB/s eta 0:00:02\n",
      "   ---------- ----------------------------- 2.1/8.0 MB 3.8 MB/s eta 0:00:02\n",
      "   -------------- ------------------------- 2.9/8.0 MB 3.5 MB/s eta 0:00:02\n",
      "   ---------------- ----------------------- 3.4/8.0 MB 3.5 MB/s eta 0:00:02\n",
      "   -------------------- ------------------- 4.2/8.0 MB 3.3 MB/s eta 0:00:02\n",
      "   --------------------------- ------------ 5.5/8.0 MB 3.7 MB/s eta 0:00:01\n",
      "   ------------------------------------- -- 7.6/8.0 MB 4.5 MB/s eta 0:00:01\n",
      "   ---------------------------------------- 8.0/8.0 MB 4.6 MB/s eta 0:00:00\n",
      "Downloading contourpy-1.3.1-cp312-cp312-win_amd64.whl (220 kB)\n",
      "Using cached cycler-0.12.1-py3-none-any.whl (8.3 kB)\n",
      "Downloading fonttools-4.55.3-cp312-cp312-win_amd64.whl (2.2 MB)\n",
      "   ---------------------------------------- 0.0/2.2 MB ? eta -:--:--\n",
      "   -------------- ------------------------- 0.8/2.2 MB 4.8 MB/s eta 0:00:01\n",
      "   ---------------------------- ----------- 1.6/2.2 MB 4.4 MB/s eta 0:00:01\n",
      "   ---------------------------------------- 2.2/2.2 MB 4.3 MB/s eta 0:00:00\n",
      "Using cached kiwisolver-1.4.7-cp312-cp312-win_amd64.whl (55 kB)\n",
      "Downloading pillow-11.0.0-cp312-cp312-win_amd64.whl (2.6 MB)\n",
      "   ---------------------------------------- 0.0/2.6 MB ? eta -:--:--\n",
      "   -------- ------------------------------- 0.5/2.6 MB 2.8 MB/s eta 0:00:01\n",
      "   -------------------- ------------------- 1.3/2.6 MB 3.2 MB/s eta 0:00:01\n",
      "   ---------------------------- ----------- 1.8/2.6 MB 3.4 MB/s eta 0:00:01\n",
      "   -------------------------------- ------- 2.1/2.6 MB 2.7 MB/s eta 0:00:01\n",
      "   -------------------------------- ------- 2.1/2.6 MB 2.7 MB/s eta 0:00:01\n",
      "   -------------------------------- ------- 2.1/2.6 MB 2.7 MB/s eta 0:00:01\n",
      "   -------------------------------- ------- 2.1/2.6 MB 2.7 MB/s eta 0:00:01\n",
      "   ---------------------------------------- 2.6/2.6 MB 1.6 MB/s eta 0:00:00\n",
      "Downloading pyparsing-3.2.0-py3-none-any.whl (106 kB)\n",
      "Installing collected packages: pyparsing, pillow, kiwisolver, fonttools, cycler, contourpy, matplotlib\n",
      "Successfully installed contourpy-1.3.1 cycler-0.12.1 fonttools-4.55.3 kiwisolver-1.4.7 matplotlib-3.10.0 pillow-11.0.0 pyparsing-3.2.0\n"
     ]
    }
   ],
   "source": [
    "# !pip install matplotlib"
   ]
  },
  {
   "cell_type": "code",
   "execution_count": 4,
   "metadata": {},
   "outputs": [],
   "source": [
    "items = [\n",
    "    \"COD NUMBER\",\n",
    "    \"Detail\",\n",
    "    \"Detail on NON UIP\",\n",
    "    \"Biopsy\",\n",
    "    \"Pathology pattern UIP, probable or CHP\",\n",
    "    \"Treatment\",\n",
    "    \"Pathology pattern\",\n",
    "    \"Extras AP\",\n",
    "    \"Diagnosis after Biopsy\",\n",
    "    \"Type of telomeric extrapulmonary affectation\",\n",
    "    \"Extra\",\n",
    "    \"Type of neoplasia\",\n",
    "    \"Liver abnormality before diagnosis\",\n",
    "    \"Hematological abnormality before diagnosis\",\n",
    "    \"Type of liver abnormality\",\n",
    "    \"Necessity of transplantation\",\n",
    "    \"Cause of death\",\n",
    "    \"Identified Infection\",\n",
    "    \"Date of death\",\n",
    "    \"Pedigree\",\n",
    "    \"FamilialvsSporadic\",\n",
    "    \"Mutation Type\",\n",
    "    \"Severity of telomere shortening - Transform 4\",\n",
    "    \"ProgressiveDisease\"\n",
    "]"
   ]
  },
  {
   "cell_type": "code",
   "execution_count": 5,
   "metadata": {},
   "outputs": [
    {
     "name": "stdout",
     "output_type": "stream",
     "text": [
      "(222, 53)\n"
     ]
    }
   ],
   "source": [
    "# Load your dataset\n",
    "df = pd.read_csv(\"../../data/output.csv\")\n",
    "df = df.drop(items, axis=1)\n",
    "\n",
    "print(df.shape)"
   ]
  },
  {
   "cell_type": "markdown",
   "metadata": {},
   "source": [
    "# Tractament de Target values"
   ]
  },
  {
   "cell_type": "code",
   "execution_count": 7,
   "metadata": {},
   "outputs": [
    {
     "name": "stdout",
     "output_type": "stream",
     "text": [
      "[1 0]\n",
      "[nan]\n"
     ]
    }
   ],
   "source": [
    "df[\"Death\"] = df[\"Death\"].fillna(\"No\")\n",
    "print(df[\"Death\"].unique())\n",
    "\n",
    "# mapear yes y no a 1 y 0\n",
    "df[\"Death\"] = df[\"Death\"].map({\"Yes\": 1, \"No\": 0})\n",
    "print(df[\"Death\"].unique())"
   ]
  },
  {
   "cell_type": "code",
   "execution_count": 8,
   "metadata": {},
   "outputs": [
    {
     "name": "stdout",
     "output_type": "stream",
     "text": [
      "[1 0]\n"
     ]
    }
   ],
   "source": [
    "df[\"Progressive disease\"] = df[\"Progressive disease\"].fillna(0)\n",
    "df[\"Progressive disease\"] = df[\"Progressive disease\"].astype(int)\n",
    "print(df[\"Progressive disease\"].unique())"
   ]
  },
  {
   "cell_type": "code",
   "execution_count": 10,
   "metadata": {},
   "outputs": [
    {
     "name": "stdout",
     "output_type": "stream",
     "text": [
      "(222, 53)\n"
     ]
    },
    {
     "data": {
      "image/png": "[encoded data removed]",
      "text/plain": [
       "<Figure size 640x480 with 2 Axes>"
      ]
     },
     "metadata": {},
     "output_type": "display_data"
    }
   ],
   "source": [
    "fig, axs = plt.subplots(1, 2)\n",
    "fig.suptitle('Target variables distribution')\n",
    "# axs[0].hist(df[\"Death\"])\n",
    "# axs[1].hist(df[\"Progressive disease\"])\n",
    "# plt.show()\n",
    "\n",
    "print(df.shape)"
   ]
  },
  {
   "cell_type": "markdown",
   "metadata": {},
   "source": [
    "# Mapeados"
   ]
  },
  {
   "cell_type": "code",
   "execution_count": 11,
   "metadata": {},
   "outputs": [
    {
     "name": "stdout",
     "output_type": "stream",
     "text": [
      "Sex\n",
      "['Male' 'Female']\n",
      "\n",
      "Binary diagnosis\n",
      "['No IPF' 'IPF']\n",
      "\n",
      "Radiological Pattern\n",
      "['UIP' 'Probable UIP' 'Non UIP' 'Indeterminate UIP' nan]\n",
      "\n",
      "Pathology Pattern Binary\n",
      "[nan 'NON UIP' 'UIP']\n",
      "\n",
      "Hematologic Disease\n",
      "['No' 'Thalassemia' 'Yes' 'Polycytemia' 'Linfoma folicular'\n",
      " 'Sd mielodisplasico' 'Thalassemia minor' 'ANAA 1:80' nan 'FR +'\n",
      " 'ANA 1:80']\n",
      "\n",
      "Liver abnormality\n",
      "['Yes' 'No' nan]\n",
      "\n",
      "Liver disease\n",
      "['No' 'Liver cirrhosis' 'Fatty liver disease' 'Fatty liver disease (2)'\n",
      " 'esteatosis hepática, + anti-HBc' 'HCV chronic liver disease'\n",
      " 'Chronic alcohol liver disease' 'Chronic alcohol liver disease (2)'\n",
      " 'Hepatic sarcoidosis with portal hypertension' nan 'Liver disease']\n",
      "\n",
      "Transplantation date\n",
      "['No transplantation' '2020-12-22 00:00:00' '2010-05-13 00:00:00'\n",
      " '2014-12-29 00:00:00' '2016-08-08 00:00:00' '2015-06-05 00:00:00'\n",
      " '2018-01-10 00:00:00' '2015-02-15 00:00:00' '2018-06-27 00:00:00'\n",
      " '2017-06-07 00:00:00' '2018-11-02 00:00:00' '2013-02-08 00:00:00'\n",
      " '2015-11-27 00:00:00' nan '2019-12-22 00:00:00' '2019-08-20 00:00:00'\n",
      " '2019-01-20 00:00:00' '2015-01-10 00:00:00' '2020-02-02 00:00:00'\n",
      " '2020-01-10 00:00:00' '2016-02-12 00:00:00' '2017-07-09 00:00:00'\n",
      " '2019-02-12 00:00:00']\n",
      "\n",
      "Type of family history\n",
      "['CPFE' 'Unspecified PF' nan 'IPF, Dendriform ossification, GPA, IPAF'\n",
      " 'IPF, GPA, IPAF' 'IPF, Dendriform ossification, IPAF'\n",
      " 'IPF, Dentriform ossification, GPA' 'IPF' 'IPF, Unspecified PF'\n",
      " 'PF 2ary to cocaine' 'CHP' 'SRIF' 'Myopathy' 'PF' 'IPF (2)' 'PF- CTD'\n",
      " 'CHP, Unspecified PF (2)' 'IPF, PF-CTD' 'IPF, IV Sarco'\n",
      " 'IPF, Fascioscapulohumeral muscular dystrophy, scleroderma'\n",
      " 'IPF, CPFE, Facioscapulohumeral Muscular Dystrophy , PF-CTD (scleroderma)'\n",
      " 'PF-CTD (RA), Unspecified PF' 'NSIP' 'IPF, NSIP' 'Intersticial Pneumonia'\n",
      " 'Pneumoconiosis' 'CHP, Unspecified PF' 'PF-CTD (RA)'\n",
      " 'SRIF, unspecified PF' 'Unspecified PF, SRIF' 'IPF (3)'\n",
      " 'Unspecified PF, IPAF' 'FP no especificada, RDT induced PF'\n",
      " 'Incipient ILD, Unspecified PF' 'No history']\n",
      "\n"
     ]
    }
   ],
   "source": [
    "# imprimir los tipos que sean object\n",
    "for column in df.columns:\n",
    "    if df[column].dtype == \"object\":\n",
    "        print(column)\n",
    "        print(df[column].unique())\n",
    "        print('')"
   ]
  },
  {
   "cell_type": "code",
   "execution_count": 12,
   "metadata": {},
   "outputs": [],
   "source": [
    "# Mapeamos Sex, Binary Diagnosis, liver abnormality\n",
    "df[\"Sex\"] = df[\"Sex\"].map({\"Male\": 1, \"Female\": 0})\n",
    "df[\"Binary diagnosis\"] = df[\"Binary diagnosis\"].map({\"IPF\": 1, \"No IPF\": 0})\n",
    "df[\"Liver abnormality\"] = df[\"Liver abnormality\"].map({\"Yes\": 1, \"No\": 0})\n",
    "\n",
    "\n"
   ]
  },
  {
   "cell_type": "code",
   "execution_count": 13,
   "metadata": {},
   "outputs": [
    {
     "name": "stdout",
     "output_type": "stream",
     "text": [
      "Radiological Pattern\n",
      "['UIP' 'Probable UIP' 'Non UIP' 'Indeterminate UIP' nan]\n",
      "\n",
      "Pathology Pattern Binary\n",
      "[nan 'NON UIP' 'UIP']\n",
      "\n",
      "Hematologic Disease\n",
      "['No' 'Thalassemia' 'Yes' 'Polycytemia' 'Linfoma folicular'\n",
      " 'Sd mielodisplasico' 'Thalassemia minor' 'ANAA 1:80' nan 'FR +'\n",
      " 'ANA 1:80']\n",
      "\n",
      "Liver disease\n",
      "['No' 'Liver cirrhosis' 'Fatty liver disease' 'Fatty liver disease (2)'\n",
      " 'esteatosis hepática, + anti-HBc' 'HCV chronic liver disease'\n",
      " 'Chronic alcohol liver disease' 'Chronic alcohol liver disease (2)'\n",
      " 'Hepatic sarcoidosis with portal hypertension' nan 'Liver disease']\n",
      "\n",
      "Transplantation date\n",
      "['No transplantation' '2020-12-22 00:00:00' '2010-05-13 00:00:00'\n",
      " '2014-12-29 00:00:00' '2016-08-08 00:00:00' '2015-06-05 00:00:00'\n",
      " '2018-01-10 00:00:00' '2015-02-15 00:00:00' '2018-06-27 00:00:00'\n",
      " '2017-06-07 00:00:00' '2018-11-02 00:00:00' '2013-02-08 00:00:00'\n",
      " '2015-11-27 00:00:00' nan '2019-12-22 00:00:00' '2019-08-20 00:00:00'\n",
      " '2019-01-20 00:00:00' '2015-01-10 00:00:00' '2020-02-02 00:00:00'\n",
      " '2020-01-10 00:00:00' '2016-02-12 00:00:00' '2017-07-09 00:00:00'\n",
      " '2019-02-12 00:00:00']\n",
      "\n",
      "Type of family history\n",
      "['CPFE' 'Unspecified PF' nan 'IPF, Dendriform ossification, GPA, IPAF'\n",
      " 'IPF, GPA, IPAF' 'IPF, Dendriform ossification, IPAF'\n",
      " 'IPF, Dentriform ossification, GPA' 'IPF' 'IPF, Unspecified PF'\n",
      " 'PF 2ary to cocaine' 'CHP' 'SRIF' 'Myopathy' 'PF' 'IPF (2)' 'PF- CTD'\n",
      " 'CHP, Unspecified PF (2)' 'IPF, PF-CTD' 'IPF, IV Sarco'\n",
      " 'IPF, Fascioscapulohumeral muscular dystrophy, scleroderma'\n",
      " 'IPF, CPFE, Facioscapulohumeral Muscular Dystrophy , PF-CTD (scleroderma)'\n",
      " 'PF-CTD (RA), Unspecified PF' 'NSIP' 'IPF, NSIP' 'Intersticial Pneumonia'\n",
      " 'Pneumoconiosis' 'CHP, Unspecified PF' 'PF-CTD (RA)'\n",
      " 'SRIF, unspecified PF' 'Unspecified PF, SRIF' 'IPF (3)'\n",
      " 'Unspecified PF, IPAF' 'FP no especificada, RDT induced PF'\n",
      " 'Incipient ILD, Unspecified PF' 'No history']\n",
      "\n"
     ]
    }
   ],
   "source": [
    "# imprimir los tipos que sean object\n",
    "for column in df.columns:\n",
    "    if df[column].dtype == \"object\":\n",
    "        print(column)\n",
    "        print(df[column].unique())\n",
    "        print('')"
   ]
  },
  {
   "cell_type": "markdown",
   "metadata": {},
   "source": [
    "## fusion patterns"
   ]
  },
  {
   "cell_type": "code",
   "execution_count": 14,
   "metadata": {},
   "outputs": [],
   "source": [
    "# para cada instancia del dataset, si la columna Radiological Pattern es igual a ['UIP' 'Probable UIP', 'Indeterminate UIP'] entonces se le asigna un ['UIP'] a la columna Pathology Pattern Binary sino se le asigna un ['NON UIP'] a Pathology Pattern Binary\n",
    "df[\"Pathology Pattern Binary\"] = df[\"Radiological Pattern\"].apply(lambda x: \"UIP\" if x in ['UIP', 'Probable UIP', 'Indeterminate UIP'] else \"NON UIP\")\n",
    "\n",
    "# borramos la columna Radiological Pattern ahora que ya no la necesitamos\n",
    "df = df.drop(\"Radiological Pattern\", axis=1)\n",
    "\n",
    "# Mapeamos Pathology Pattern Binary a 1 y 0\n",
    "df[\"Pathology Pattern Binary\"] = df[\"Pathology Pattern Binary\"].map({\"UIP\": 1, \"NON UIP\": 0})\n"
   ]
  },
  {
   "cell_type": "code",
   "execution_count": 15,
   "metadata": {},
   "outputs": [
    {
     "name": "stdout",
     "output_type": "stream",
     "text": [
      "Hematologic Disease\n",
      "['No' 'Thalassemia' 'Yes' 'Polycytemia' 'Linfoma folicular'\n",
      " 'Sd mielodisplasico' 'Thalassemia minor' 'ANAA 1:80' nan 'FR +'\n",
      " 'ANA 1:80']\n",
      "\n",
      "Liver disease\n",
      "['No' 'Liver cirrhosis' 'Fatty liver disease' 'Fatty liver disease (2)'\n",
      " 'esteatosis hepática, + anti-HBc' 'HCV chronic liver disease'\n",
      " 'Chronic alcohol liver disease' 'Chronic alcohol liver disease (2)'\n",
      " 'Hepatic sarcoidosis with portal hypertension' nan 'Liver disease']\n",
      "\n",
      "Transplantation date\n",
      "['No transplantation' '2020-12-22 00:00:00' '2010-05-13 00:00:00'\n",
      " '2014-12-29 00:00:00' '2016-08-08 00:00:00' '2015-06-05 00:00:00'\n",
      " '2018-01-10 00:00:00' '2015-02-15 00:00:00' '2018-06-27 00:00:00'\n",
      " '2017-06-07 00:00:00' '2018-11-02 00:00:00' '2013-02-08 00:00:00'\n",
      " '2015-11-27 00:00:00' nan '2019-12-22 00:00:00' '2019-08-20 00:00:00'\n",
      " '2019-01-20 00:00:00' '2015-01-10 00:00:00' '2020-02-02 00:00:00'\n",
      " '2020-01-10 00:00:00' '2016-02-12 00:00:00' '2017-07-09 00:00:00'\n",
      " '2019-02-12 00:00:00']\n",
      "\n",
      "Type of family history\n",
      "['CPFE' 'Unspecified PF' nan 'IPF, Dendriform ossification, GPA, IPAF'\n",
      " 'IPF, GPA, IPAF' 'IPF, Dendriform ossification, IPAF'\n",
      " 'IPF, Dentriform ossification, GPA' 'IPF' 'IPF, Unspecified PF'\n",
      " 'PF 2ary to cocaine' 'CHP' 'SRIF' 'Myopathy' 'PF' 'IPF (2)' 'PF- CTD'\n",
      " 'CHP, Unspecified PF (2)' 'IPF, PF-CTD' 'IPF, IV Sarco'\n",
      " 'IPF, Fascioscapulohumeral muscular dystrophy, scleroderma'\n",
      " 'IPF, CPFE, Facioscapulohumeral Muscular Dystrophy , PF-CTD (scleroderma)'\n",
      " 'PF-CTD (RA), Unspecified PF' 'NSIP' 'IPF, NSIP' 'Intersticial Pneumonia'\n",
      " 'Pneumoconiosis' 'CHP, Unspecified PF' 'PF-CTD (RA)'\n",
      " 'SRIF, unspecified PF' 'Unspecified PF, SRIF' 'IPF (3)'\n",
      " 'Unspecified PF, IPAF' 'FP no especificada, RDT induced PF'\n",
      " 'Incipient ILD, Unspecified PF' 'No history']\n",
      "\n"
     ]
    }
   ],
   "source": [
    "# imprimir los tipos que sean object\n",
    "for column in df.columns:\n",
    "    if df[column].dtype == \"object\":\n",
    "        print(column)\n",
    "        print(df[column].unique())\n",
    "        print('')"
   ]
  },
  {
   "cell_type": "markdown",
   "metadata": {},
   "source": [
    "Mapear multiclases a binarias"
   ]
  },
  {
   "cell_type": "code",
   "execution_count": 16,
   "metadata": {},
   "outputs": [],
   "source": [
    "# cambiar columnas Hematologic Disease,Liver disease,Transplantation date, Type of family history a binarias\n",
    "\n",
    "# hematologic desease quiero que sea 0 si es no y 1 si es cualquier otra cosa ['Thalassemia' 'Yes' 'Polycytemia' 'Linfoma folicular' 'Sd mielodisplasico' 'Thalassemia minor' 'ANAA 1:80' 'FR +' 'ANA 1:80']\n",
    "df[\"Hematologic Disease\"] = df[\"Hematologic Disease\"].apply(lambda x: 0 if x == \"No\" or pd.isnull(x) else 1)\n",
    "\n",
    "# lo mismo para Liver disease \n",
    "df[\"Liver disease\"] = df[\"Liver disease\"].apply(lambda x: 0 if x == \"No\" or pd.isnull(x) else 1)\n",
    "\n",
    "# lo mismo para Transplantation date pero si es \"No transplantation\" o null entonces es 0 y si es cualquier otra cosa es 1\n",
    "df[\"Transplantation date\"] = df[\"Transplantation date\"].apply(lambda x: 0 if x == \"No transplantation\" or pd.isnull(x) else 1)\n",
    "df = df.rename(columns={\"Transplantation date\": \"Transplantation\"})\n",
    "\n",
    "# lo mismo para Type of family history pero si es \"No\" o null entonces es 0 y si es cualquier otra cosa es 1\n",
    "df[\"Type of family history\"] = df[\"Type of family history\"].apply(lambda x: 0 if x == \"No history\" or pd.isnull(x) else 1)\n"
   ]
  },
  {
   "cell_type": "markdown",
   "metadata": {},
   "source": [
    "cambiar los tipos del dataset"
   ]
  },
  {
   "cell_type": "code",
   "execution_count": 17,
   "metadata": {},
   "outputs": [
    {
     "name": "stdout",
     "output_type": "stream",
     "text": [
      "Sex                                       int64\n",
      "Age at diagnosis                        float64\n",
      "Binary diagnosis                          int64\n",
      "Final diagnosis                           int64\n",
      "TOBACCO                                   int64\n",
      "Comorbidities                             int64\n",
      "Pathology Pattern Binary                  int64\n",
      "Multidsciplinary committee              float64\n",
      "Pirfenidone                               int64\n",
      "Nintedanib                                int64\n",
      "Antifibrotic Drug                         int64\n",
      "Prednisone                                int64\n",
      "Mycophenolate                             int64\n",
      "Extrapulmonary affectation              float64\n",
      "Associated lung cancer                  float64\n",
      "Other cancer                            float64\n",
      "Blood count abnormality at diagnosis    float64\n",
      "Anemia                                  float64\n",
      "Thrombocytopenia                        float64\n",
      "Thrombocytosis                          float64\n",
      "Lymphocytosis                           float64\n",
      "Lymphopenia                             float64\n",
      "Neutrophilia                            float64\n",
      "Neutropenia                             float64\n",
      "Leukocytosis                            float64\n",
      "Leukopenia                              float64\n",
      "Hematologic Disease                       int64\n",
      "Liver abnormality                       float64\n",
      "LDH                                       int64\n",
      "ALT                                       int64\n",
      "AST                                       int64\n",
      "ALP                                       int64\n",
      "GGT                                       int64\n",
      "Transaminitis                             int64\n",
      "Cholestasis                               int64\n",
      "Liver disease                             int64\n",
      "FVC (L) at diagnosis                    float64\n",
      "FVC (%) at diagnosis                    float64\n",
      "DLCO (%) at diagnosis                   float64\n",
      "FVC (L) 1 year after diagnosis          float64\n",
      "FVC (%) 1 year after diagnosis          float64\n",
      "DLCO (%) 1 year after diagnosis         float64\n",
      "RadioWorsening2y                        float64\n",
      "Transplantation                           int64\n",
      "Death                                   float64\n",
      "Type of family history                    int64\n",
      "1st degree relative                       int64\n",
      "2nd degree relative                       int64\n",
      "More than 1 relative                      int64\n",
      "Genetic mutation studied in patient     float64\n",
      "Severity of telomere shortening         float64\n",
      "Progressive disease                       int64\n",
      "dtype: object\n"
     ]
    }
   ],
   "source": [
    "# imprimir los tipos de cada columna\n",
    "print(df.dtypes)"
   ]
  },
  {
   "cell_type": "code",
   "execution_count": 18,
   "metadata": {},
   "outputs": [
    {
     "name": "stdout",
     "output_type": "stream",
     "text": [
      "Index(['Sex', 'Age at diagnosis', 'Binary diagnosis', 'Final diagnosis',\n",
      "       'TOBACCO', 'Comorbidities', 'Pathology Pattern Binary',\n",
      "       'Multidsciplinary committee', 'Pirfenidone', 'Nintedanib',\n",
      "       'Antifibrotic Drug', 'Prednisone', 'Mycophenolate',\n",
      "       'Extrapulmonary affectation', 'Associated lung cancer', 'Other cancer',\n",
      "       'Blood count abnormality at diagnosis', 'Anemia', 'Thrombocytopenia',\n",
      "       'Thrombocytosis', 'Lymphocytosis', 'Lymphopenia', 'Neutrophilia',\n",
      "       'Neutropenia', 'Leukocytosis', 'Leukopenia', 'Hematologic Disease',\n",
      "       'Liver abnormality', 'LDH', 'ALT', 'AST', 'ALP', 'GGT', 'Transaminitis',\n",
      "       'Cholestasis', 'Liver disease', 'FVC (L) at diagnosis',\n",
      "       'FVC (%) at diagnosis', 'DLCO (%) at diagnosis',\n",
      "       'FVC (L) 1 year after diagnosis', 'FVC (%) 1 year after diagnosis',\n",
      "       'DLCO (%) 1 year after diagnosis', 'RadioWorsening2y',\n",
      "       'Transplantation', 'Death', 'Type of family history',\n",
      "       '1st degree relative', '2nd degree relative', 'More than 1 relative',\n",
      "       'Genetic mutation studied in patient',\n",
      "       'Severity of telomere shortening', 'Progressive disease'],\n",
      "      dtype='object')\n"
     ]
    }
   ],
   "source": [
    "print(df.columns)"
   ]
  },
  {
   "cell_type": "code",
   "execution_count": 19,
   "metadata": {},
   "outputs": [],
   "source": [
    "# cambiar a Int las siguientes columnas \n",
    "\n",
    "to_int64 = [\"Age at diagnosis\",\n",
    "    'Multidsciplinary committee',\n",
    "    \"Extrapulmonary affectation\",\n",
    "    \"Associated lung cancer\",\n",
    "    \"Other cancer\",\n",
    "    \"Blood count abnormality at diagnosis\",\n",
    "    \"Anemia\",\n",
    "    \"Thrombocytopenia\",\n",
    "    \"Thrombocytosis\",\n",
    "    \"Lymphocytosis\",\n",
    "    \"Lymphopenia\",\n",
    "    \"Neutrophilia\",\n",
    "    \"Neutropenia\",\n",
    "    \"Leukocytosis\",\n",
    "    \"Leukopenia\",\n",
    "    \"Genetic mutation studied in patient\",\n",
    "    \"Severity of telomere shortening\",\n",
    "    \"RadioWorsening2y\",\n",
    "    \"Progressive disease\",\n",
    "]\n",
    "\n",
    "df[to_int64] = df[to_int64].astype('Int64', errors='ignore')\n",
    "\n",
    "\n"
   ]
  },
  {
   "cell_type": "markdown",
   "metadata": {},
   "source": [
    "dataset transformado final"
   ]
  },
  {
   "cell_type": "code",
   "execution_count": 20,
   "metadata": {},
   "outputs": [
    {
     "name": "stdout",
     "output_type": "stream",
     "text": [
      "Sex                                       int64\n",
      "Age at diagnosis                          Int64\n",
      "Binary diagnosis                          int64\n",
      "Final diagnosis                           int64\n",
      "TOBACCO                                   int64\n",
      "Comorbidities                             int64\n",
      "Pathology Pattern Binary                  int64\n",
      "Multidsciplinary committee                Int64\n",
      "Pirfenidone                               int64\n",
      "Nintedanib                                int64\n",
      "Antifibrotic Drug                         int64\n",
      "Prednisone                                int64\n",
      "Mycophenolate                             int64\n",
      "Extrapulmonary affectation                Int64\n",
      "Associated lung cancer                    Int64\n",
      "Other cancer                              Int64\n",
      "Blood count abnormality at diagnosis      Int64\n",
      "Anemia                                    Int64\n",
      "Thrombocytopenia                          Int64\n",
      "Thrombocytosis                            Int64\n",
      "Lymphocytosis                             Int64\n",
      "Lymphopenia                               Int64\n",
      "Neutrophilia                              Int64\n",
      "Neutropenia                               Int64\n",
      "Leukocytosis                              Int64\n",
      "Leukopenia                                Int64\n",
      "Hematologic Disease                       int64\n",
      "Liver abnormality                       float64\n",
      "LDH                                       int64\n",
      "ALT                                       int64\n",
      "AST                                       int64\n",
      "ALP                                       int64\n",
      "GGT                                       int64\n",
      "Transaminitis                             int64\n",
      "Cholestasis                               int64\n",
      "Liver disease                             int64\n",
      "FVC (L) at diagnosis                    float64\n",
      "FVC (%) at diagnosis                    float64\n",
      "DLCO (%) at diagnosis                   float64\n",
      "FVC (L) 1 year after diagnosis          float64\n",
      "FVC (%) 1 year after diagnosis          float64\n",
      "DLCO (%) 1 year after diagnosis         float64\n",
      "RadioWorsening2y                          Int64\n",
      "Transplantation                           int64\n",
      "Death                                   float64\n",
      "Type of family history                    int64\n",
      "1st degree relative                       int64\n",
      "2nd degree relative                       int64\n",
      "More than 1 relative                      int64\n",
      "Genetic mutation studied in patient       Int64\n",
      "Severity of telomere shortening           Int64\n",
      "Progressive disease                       Int64\n",
      "dtype: object\n"
     ]
    }
   ],
   "source": [
    "print(df.dtypes)"
   ]
  },
  {
   "cell_type": "code",
   "execution_count": 21,
   "metadata": {},
   "outputs": [
    {
     "name": "stdout",
     "output_type": "stream",
     "text": [
      " TRUE MISS Death: 100.0%\n",
      "FAKE MISS Severity of telomere shortening: 31.53153153153153%\n",
      "FAKE MISS Genetic mutation studied in patient: 9.00900900900901%\n",
      " TRUE MISS DLCO (%) 1 year after diagnosis: 2.7027027027027026%\n",
      "FAKE MISS Extrapulmonary affectation: 1.8018018018018018%\n",
      "FAKE MISS Blood count abnormality at diagnosis: 1.8018018018018018%\n",
      " TRUE MISS FVC (%) 1 year after diagnosis: 1.8018018018018018%\n",
      " TRUE MISS FVC (L) 1 year after diagnosis: 1.8018018018018018%\n",
      "FAKE MISS Anemia: 1.3513513513513513%\n",
      "FAKE MISS Leukopenia: 1.3513513513513513%\n",
      "FAKE MISS Other cancer: 1.3513513513513513%\n",
      "FAKE MISS Associated lung cancer: 1.3513513513513513%\n",
      "FAKE MISS Leukocytosis: 0.9009009009009009%\n",
      "FAKE MISS Thrombocytopenia: 0.9009009009009009%\n",
      " TRUE MISS DLCO (%) at diagnosis: 0.9009009009009009%\n",
      "FAKE MISS RadioWorsening2y: 0.9009009009009009%\n",
      " TRUE MISS FVC (%) at diagnosis: 0.9009009009009009%\n",
      " TRUE MISS Liver abnormality: 0.9009009009009009%\n",
      " TRUE MISS FVC (L) at diagnosis: 0.9009009009009009%\n",
      "FAKE MISS Multidsciplinary committee: 0.45045045045045046%\n",
      "FAKE MISS Lymphopenia: 0.45045045045045046%\n",
      "FAKE MISS Neutrophilia: 0.45045045045045046%\n",
      "FAKE MISS Neutropenia: 0.45045045045045046%\n",
      "FAKE MISS Thrombocytosis: 0.45045045045045046%\n",
      " TRUE MISS Age at diagnosis: 0.45045045045045046%\n",
      "FAKE MISS Lymphocytosis: 0.45045045045045046%\n"
     ]
    }
   ],
   "source": [
    "# Let's explore the missing values in the dataset\n",
    "# Lets print the percentage of missing values in each column order\n",
    "l = df.isnull().mean() * 100\n",
    "\n",
    "# Lets order the columns by the percentage of missing values and if they are float64\n",
    "l = l.sort_values(ascending=False)\n",
    "more_missing = []\n",
    "less_missing = []\n",
    "fake_missing = []\n",
    "true_missing = []\n",
    "for i in l.index:\n",
    "\n",
    "    if l[i] > 0 and (df[i].dtype == \"Int64\" or df[i].dtype == \"int64\") and i != \"Age at diagnosis\":\n",
    "        fake_missing.append(i)\n",
    "        print(f\"FAKE MISS {i}: {l[i]}%\")\n",
    "    elif l[i] > 0 and (df[i].dtype == \"float64\") or i == \"Age at diagnosis\":\n",
    "        true_missing.append(i)\n",
    "        print(f\" TRUE MISS {i}: {l[i]}%\")\n",
    "\n"
   ]
  },
  {
   "cell_type": "code",
   "execution_count": 22,
   "metadata": {},
   "outputs": [
    {
     "name": "stdout",
     "output_type": "stream",
     "text": [
      "FAKE MISSING: ['Severity of telomere shortening', 'Genetic mutation studied in patient', 'Extrapulmonary affectation', 'Blood count abnormality at diagnosis', 'Anemia', 'Leukopenia', 'Other cancer', 'Associated lung cancer', 'Leukocytosis', 'Thrombocytopenia', 'RadioWorsening2y', 'Multidsciplinary committee', 'Lymphopenia', 'Neutrophilia', 'Neutropenia', 'Thrombocytosis', 'Lymphocytosis']\n",
      "TRUE MISSING: ['Death', 'DLCO (%) 1 year after diagnosis', 'FVC (%) 1 year after diagnosis', 'FVC (L) 1 year after diagnosis', 'DLCO (%) at diagnosis', 'FVC (%) at diagnosis', 'Liver abnormality', 'FVC (L) at diagnosis', 'Age at diagnosis']\n"
     ]
    }
   ],
   "source": [
    "print(f\"FAKE MISSING: {fake_missing}\")\n",
    "print(f\"TRUE MISSING: {true_missing}\")"
   ]
  },
  {
   "cell_type": "code",
   "execution_count": 23,
   "metadata": {},
   "outputs": [],
   "source": [
    "for i in fake_missing:\n",
    "    df[i] = df[i].fillna(0)"
   ]
  },
  {
   "cell_type": "code",
   "execution_count": 24,
   "metadata": {},
   "outputs": [],
   "source": [
    "for i in fake_missing:\n",
    "    if -9 in df[i].unique():\n",
    "        df[i] = df[i].replace(-9, pd.NA)\n",
    "        true_missing.append(i)"
   ]
  },
  {
   "cell_type": "code",
   "execution_count": 25,
   "metadata": {},
   "outputs": [
    {
     "name": "stdout",
     "output_type": "stream",
     "text": [
      " Death: 100.0%\n",
      " DLCO (%) 1 year after diagnosis: 2.7027027027027026%\n",
      " FVC (%) 1 year after diagnosis: 1.8018018018018018%\n",
      " FVC (L) 1 year after diagnosis: 1.8018018018018018%\n",
      " DLCO (%) at diagnosis: 0.9009009009009009%\n",
      " FVC (%) at diagnosis: 0.9009009009009009%\n",
      " Severity of telomere shortening: 0.9009009009009009%\n",
      " Liver abnormality: 0.9009009009009009%\n",
      " FVC (L) at diagnosis: 0.9009009009009009%\n",
      " Age at diagnosis: 0.45045045045045046%\n",
      " Genetic mutation studied in patient: 0.45045045045045046%\n"
     ]
    }
   ],
   "source": [
    "# Let's explore the missing values in the dataset\n",
    "# Lets print the percentage of missing values in each column order\n",
    "l = df.isnull().mean() * 100\n",
    "l = l.sort_values(ascending=False)\n",
    "\n",
    "for i in l.index:\n",
    "    if l[i] > 0:\n",
    "        print(f\" {i}: {l[i]}%\")\n",
    "\n"
   ]
  },
  {
   "cell_type": "code",
   "execution_count": 26,
   "metadata": {},
   "outputs": [
    {
     "name": "stdout",
     "output_type": "stream",
     "text": [
      "TRUE MISSING: ['Death', 'DLCO (%) 1 year after diagnosis', 'FVC (%) 1 year after diagnosis', 'FVC (L) 1 year after diagnosis', 'DLCO (%) at diagnosis', 'FVC (%) at diagnosis', 'Liver abnormality', 'FVC (L) at diagnosis', 'Age at diagnosis', 'Severity of telomere shortening', 'Genetic mutation studied in patient']\n"
     ]
    }
   ],
   "source": [
    "print(f\"TRUE MISSING: {true_missing}\")"
   ]
  },
  {
   "cell_type": "code",
   "execution_count": 27,
   "metadata": {},
   "outputs": [],
   "source": [
    "X = df.drop(columns=[\"Death\", \"Progressive disease\"]) # Features\n",
    "y = df[[\"Death\", \"Progressive disease\"]]  # Target variable"
   ]
  },
  {
   "cell_type": "code",
   "execution_count": 28,
   "metadata": {},
   "outputs": [
    {
     "name": "stdout",
     "output_type": "stream",
     "text": [
      "Random state: 11\n"
     ]
    }
   ],
   "source": [
    "for i in range(1000):\n",
    "    #iterar random_state hasta que no haya missings en x_test\n",
    "    X_train, X_test, y_train, y_test = train_test_split(X, y, test_size=0.15, random_state=i)\n",
    "    if X_test.isnull().sum().sum() == 0:\n",
    "        print(f\"Random state: {i}\")\n",
    "        break\n",
    "\n",
    "    "
   ]
  },
  {
   "cell_type": "code",
   "execution_count": 31,
   "metadata": {},
   "outputs": [
    {
     "name": "stdout",
     "output_type": "stream",
     "text": [
      "0\n"
     ]
    }
   ],
   "source": [
    "X_train, X_test, y_train, y_test = train_test_split(X, y, test_size=0.15, random_state=i)\n",
    "\n",
    "# comprobamos que no haya missings en x_test\n",
    "print(X_test.isnull().sum().sum())\n"
   ]
  },
  {
   "cell_type": "code",
   "execution_count": 32,
   "metadata": {},
   "outputs": [
    {
     "ename": "IndexError",
     "evalue": "invalid index to scalar variable.",
     "output_type": "error",
     "traceback": [
      "\u001b[1;31m---------------------------------------------------------------------------\u001b[0m",
      "\u001b[1;31mIndexError\u001b[0m                                Traceback (most recent call last)",
      "Cell \u001b[1;32mIn[32], line 14\u001b[0m\n\u001b[0;32m     11\u001b[0m \u001b[38;5;66;03m# 1. Imputación de las variables binarias con la moda\u001b[39;00m\n\u001b[0;32m     12\u001b[0m \u001b[38;5;28;01mfor\u001b[39;00m col \u001b[38;5;129;01min\u001b[39;00m binary_vars:\n\u001b[0;32m     13\u001b[0m     \u001b[38;5;66;03m# Calcular la moda excluyendo valores nulos\u001b[39;00m\n\u001b[1;32m---> 14\u001b[0m     moda \u001b[38;5;241m=\u001b[39m \u001b[43mmode\u001b[49m\u001b[43m(\u001b[49m\u001b[43mX_train\u001b[49m\u001b[43m[\u001b[49m\u001b[43mcol\u001b[49m\u001b[43m]\u001b[49m\u001b[38;5;241;43m.\u001b[39;49m\u001b[43mdropna\u001b[49m\u001b[43m(\u001b[49m\u001b[43m)\u001b[49m\u001b[43m)\u001b[49m\u001b[43m[\u001b[49m\u001b[38;5;241;43m0\u001b[39;49m\u001b[43m]\u001b[49m\u001b[43m[\u001b[49m\u001b[38;5;241;43m0\u001b[39;49m\u001b[43m]\u001b[49m\n\u001b[0;32m     15\u001b[0m     \u001b[38;5;66;03m# Imputar valores faltantes con la moda\u001b[39;00m\n\u001b[0;32m     16\u001b[0m     X_train[col]\u001b[38;5;241m.\u001b[39mfillna(moda, inplace\u001b[38;5;241m=\u001b[39m\u001b[38;5;28;01mTrue\u001b[39;00m)\n",
      "\u001b[1;31mIndexError\u001b[0m: invalid index to scalar variable."
     ]
    }
   ],
   "source": [
    "import pandas as pd\n",
    "import numpy as np\n",
    "from sklearn.experimental import enable_iterative_imputer  # Necesario para habilitar MICE\n",
    "from sklearn.impute import IterativeImputer\n",
    "from scipy.stats import mode\n",
    "\n",
    "# Detectar variables binarias (0 y 1) y numéricas\n",
    "binary_vars = [col for col in X_train.columns if set(X_train[col].dropna().unique()).issubset({0, 1})]\n",
    "numeric_vars = [col for col in X_train.columns if col not in binary_vars]\n",
    "\n",
    "# 1. Imputación de las variables binarias con la moda\n",
    "for col in binary_vars:\n",
    "    # Calcular la moda excluyendo valores nulos\n",
    "    moda = mode(X_train[col].dropna())[0][0]\n",
    "    # Imputar valores faltantes con la moda\n",
    "    X_train[col].fillna(moda, inplace=True)\n",
    "\n",
    "# 2. Imputación de las variables numéricas con MICE\n",
    "mice_imputer = IterativeImputer(random_state=42)\n",
    "X_train[numeric_vars] = mice_imputer.fit_transform(X_train[numeric_vars])\n",
    "\n",
    "# 3. Redondear y convertir a enteros columnas específicas\n",
    "columns_to_round = ['Age at diagnosis', 'Final diagnosis', 'TOBACCO', 'Severity of telomere shortening']\n",
    "for col in columns_to_round:\n",
    "    if col in X_train.columns:\n",
    "        X_train[col] = X_train[col].round().astype(int)\n",
    "\n",
    "# Resultado\n",
    "print(\"Imputación completada y valores redondeados.\")\n"
   ]
  },
  {
   "cell_type": "code",
   "execution_count": 924,
   "metadata": {},
   "outputs": [],
   "source": [
    "X_train = pd.DataFrame(X_train, columns=X.columns)"
   ]
  },
  {
   "cell_type": "code",
   "execution_count": 925,
   "metadata": {},
   "outputs": [],
   "source": [
    "for col in X_train.columns:\n",
    "    if pd.api.types.is_integer_dtype(X_train[col]):\n",
    "        X_train[col] = X_train[col].astype('int64')\n",
    "        X_test[col] = X_test[col].astype('int64')"
   ]
  },
  {
   "cell_type": "code",
   "execution_count": 926,
   "metadata": {},
   "outputs": [
    {
     "data": {
      "text/plain": [
       "Sex                                       int64\n",
       "Age at diagnosis                          int64\n",
       "Binary diagnosis                          int64\n",
       "Final diagnosis                           int64\n",
       "TOBACCO                                   int64\n",
       "Comorbidities                             int64\n",
       "Pathology Pattern Binary                  int64\n",
       "Multidsciplinary committee                int64\n",
       "Pirfenidone                               int64\n",
       "Nintedanib                                int64\n",
       "Antifibrotic Drug                         int64\n",
       "Prednisone                                int64\n",
       "Mycophenolate                             int64\n",
       "Extrapulmonary affectation                int64\n",
       "Associated lung cancer                    int64\n",
       "Other cancer                              int64\n",
       "Blood count abnormality at diagnosis      int64\n",
       "Anemia                                    int64\n",
       "Thrombocytopenia                          int64\n",
       "Thrombocytosis                            int64\n",
       "Lymphocytosis                             int64\n",
       "Lymphopenia                               int64\n",
       "Neutrophilia                              int64\n",
       "Neutropenia                               int64\n",
       "Leukocytosis                              int64\n",
       "Leukopenia                                int64\n",
       "Hematologic Disease                       int64\n",
       "Liver abnormality                         int64\n",
       "LDH                                       int64\n",
       "ALT                                       int64\n",
       "AST                                       int64\n",
       "ALP                                       int64\n",
       "GGT                                       int64\n",
       "Transaminitis                             int64\n",
       "Cholestasis                               int64\n",
       "Liver disease                             int64\n",
       "FVC (L) at diagnosis                    float64\n",
       "FVC (%) at diagnosis                    float64\n",
       "DLCO (%) at diagnosis                   float64\n",
       "FVC (L) 1 year after diagnosis          float64\n",
       "FVC (%) 1 year after diagnosis          float64\n",
       "DLCO (%) 1 year after diagnosis         float64\n",
       "RadioWorsening2y                        float64\n",
       "Transplantation                           int64\n",
       "Type of family history                    int64\n",
       "1st degree relative                       int64\n",
       "2nd degree relative                       int64\n",
       "More than 1 relative                      int64\n",
       "Genetic mutation studied in patient       int64\n",
       "Severity of telomere shortening           int64\n",
       "dtype: object"
      ]
     },
     "execution_count": 926,
     "metadata": {},
     "output_type": "execute_result"
    }
   ],
   "source": [
    "X_train.dtypes"
   ]
  },
  {
   "cell_type": "code",
   "execution_count": 927,
   "metadata": {},
   "outputs": [
    {
     "data": {
      "text/plain": [
       "Sex                                       int64\n",
       "Age at diagnosis                          int64\n",
       "Binary diagnosis                          int64\n",
       "Final diagnosis                           int64\n",
       "TOBACCO                                   int64\n",
       "Comorbidities                             int64\n",
       "Pathology Pattern Binary                  int64\n",
       "Multidsciplinary committee                int64\n",
       "Pirfenidone                               int64\n",
       "Nintedanib                                int64\n",
       "Antifibrotic Drug                         int64\n",
       "Prednisone                                int64\n",
       "Mycophenolate                             int64\n",
       "Extrapulmonary affectation                int64\n",
       "Associated lung cancer                    int64\n",
       "Other cancer                              int64\n",
       "Blood count abnormality at diagnosis      int64\n",
       "Anemia                                    int64\n",
       "Thrombocytopenia                          int64\n",
       "Thrombocytosis                            int64\n",
       "Lymphocytosis                             int64\n",
       "Lymphopenia                               int64\n",
       "Neutrophilia                              int64\n",
       "Neutropenia                               int64\n",
       "Leukocytosis                              int64\n",
       "Leukopenia                                int64\n",
       "Hematologic Disease                       int64\n",
       "Liver abnormality                         int64\n",
       "LDH                                       int64\n",
       "ALT                                       int64\n",
       "AST                                       int64\n",
       "ALP                                       int64\n",
       "GGT                                       int64\n",
       "Transaminitis                             int64\n",
       "Cholestasis                               int64\n",
       "Liver disease                             int64\n",
       "FVC (L) at diagnosis                    float64\n",
       "FVC (%) at diagnosis                    float64\n",
       "DLCO (%) at diagnosis                   float64\n",
       "FVC (L) 1 year after diagnosis          float64\n",
       "FVC (%) 1 year after diagnosis          float64\n",
       "DLCO (%) 1 year after diagnosis         float64\n",
       "RadioWorsening2y                          Int64\n",
       "Transplantation                           int64\n",
       "Type of family history                    int64\n",
       "1st degree relative                       int64\n",
       "2nd degree relative                       int64\n",
       "More than 1 relative                      int64\n",
       "Genetic mutation studied in patient       int64\n",
       "Severity of telomere shortening           int64\n",
       "dtype: object"
      ]
     },
     "execution_count": 927,
     "metadata": {},
     "output_type": "execute_result"
    }
   ],
   "source": [
    "X_test.dtypes"
   ]
  },
  {
   "cell_type": "code",
   "execution_count": 928,
   "metadata": {},
   "outputs": [
    {
     "name": "stdout",
     "output_type": "stream",
     "text": [
      "0\n",
      "0\n"
     ]
    }
   ],
   "source": [
    "train_df = pd.concat([X_train, y_train], axis=1)\n",
    "test_df = pd.concat([X_test, y_test], axis=1)\n",
    "\n",
    "# comprobamos que no haya missings en train_df y test_df\n",
    "print(train_df.isnull().sum().sum())\n",
    "print(test_df.isnull().sum().sum())"
   ]
  },
  {
   "cell_type": "code",
   "execution_count": 929,
   "metadata": {},
   "outputs": [
    {
     "name": "stdout",
     "output_type": "stream",
     "text": [
      "The train.csv and test.csv files have been created successfully, including both target columns.\n"
     ]
    }
   ],
   "source": [
    "train_df.to_csv(\"../../data/train.csv\", index=False)\n",
    "test_df.to_csv(\"../../data/test.csv\", index=False)\n",
    "\n",
    "print(\"The train.csv and test.csv files have been created successfully, including both target columns.\")"
   ]
  }
 ],
 "metadata": {
  "kernelspec": {
   "display_name": ".venv",
   "language": "python",
   "name": "python3"
  },
  "language_info": {
   "codemirror_mode": {
    "name": "ipython",
    "version": 3
   },
   "file_extension": ".py",
   "mimetype": "text/x-python",
   "name": "python",
   "nbconvert_exporter": "python",
   "pygments_lexer": "ipython3",
   "version": "3.12.8"
  }
 },
 "nbformat": 4,
 "nbformat_minor": 2
}
