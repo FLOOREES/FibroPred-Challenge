{
 "cells": [
  {
   "cell_type": "code",
   "execution_count": 2,
   "metadata": {},
   "outputs": [],
   "source": [
    "import pandas as pd \n",
    "import matplotlib.pyplot as plt\n"
   ]
  },
  {
   "cell_type": "code",
   "execution_count": 4,
   "metadata": {},
   "outputs": [],
   "source": [
    "train_df = pd.read_csv('../../data/train.csv')\n",
    "test_df = pd.read_csv('../../data/test.csv')"
   ]
  },
  {
   "cell_type": "code",
   "execution_count": null,
   "metadata": {},
   "outputs": [],
   "source": [
    "y_train_death = train_df['Death']\n",
    "y_train_desease = train_df['Progressive disease']\n",
    "train_df = train_df.drop(['Death', 'Progressive disease'], axis=1)\n"
   ]
  },
  {
   "cell_type": "code",
   "execution_count": 11,
   "metadata": {},
   "outputs": [],
   "source": [
    "y_test_death = test_df['Death']\n",
    "y_test_desease = test_df['Progressive disease']\n",
    "test_df = test_df.drop(['Death', 'Progressive disease'], axis=1)"
   ]
  },
  {
   "cell_type": "code",
   "execution_count": 16,
   "metadata": {},
   "outputs": [],
   "source": [
    "#neutropenia -> to remove\n",
    "plot = False\n",
    "if plot:\n",
    "    for column in train_df.columns:\n",
    "        plt.figure(figsize=(10, 6))\n",
    "        if train_df[column].dtype == 'object':\n",
    "            train_df[column].value_counts().plot(kind='bar')\n",
    "        if train_df[column].dtype == 'int64' or train_df[column].dtype == 'float64':\n",
    "            if train_df[column].nunique() < 5:\n",
    "                train_df[column].value_counts().plot(kind='bar')\n",
    "            else:\n",
    "                plt.hist(train_df[column], bins=30, edgecolor='k', alpha=0.7)\n",
    "        plt.title(f'Univariate plot of {column}')\n",
    "        plt.xlabel(column)\n",
    "        plt.ylabel('Frequency')\n",
    "        plt.grid(True)\n",
    "        plt.show()"
   ]
  },
  {
   "cell_type": "code",
   "execution_count": 17,
   "metadata": {},
   "outputs": [],
   "source": [
    "from sklearn.preprocessing import minmax_scale\n",
    "for column in train_df.columns:\n",
    "    if train_df[column].dtype == 'int64' or train_df[column].dtype == 'float64':\n",
    "            if train_df[column].nunique() > 15:\n",
    "                train_df[column] = minmax_scale(train_df[column])\n",
    "\n",
    "# scaler = minmax_scale(train_df)"
   ]
  },
  {
   "cell_type": "code",
   "execution_count": 46,
   "metadata": {},
   "outputs": [
    {
     "name": "stdout",
     "output_type": "stream",
     "text": [
      "{'C': 0.1, 'gamma': 1, 'kernel': 'linear'}\n",
      "[[18  0]\n",
      " [15  0]]\n",
      "              precision    recall  f1-score   support\n",
      "\n",
      "           0       0.55      1.00      0.71        18\n",
      "           1       0.00      0.00      0.00        15\n",
      "\n",
      "    accuracy                           0.55        33\n",
      "   macro avg       0.27      0.50      0.35        33\n",
      "weighted avg       0.30      0.55      0.39        33\n",
      "\n"
     ]
    },
    {
     "name": "stderr",
     "output_type": "stream",
     "text": [
      "c:\\Users\\USER\\Desktop\\Personal\\Bits\\.venv\\Lib\\site-packages\\sklearn\\metrics\\_classification.py:1565: UndefinedMetricWarning: Precision is ill-defined and being set to 0.0 in labels with no predicted samples. Use `zero_division` parameter to control this behavior.\n",
      "  _warn_prf(average, modifier, f\"{metric.capitalize()} is\", len(result))\n",
      "c:\\Users\\USER\\Desktop\\Personal\\Bits\\.venv\\Lib\\site-packages\\sklearn\\metrics\\_classification.py:1565: UndefinedMetricWarning: Precision is ill-defined and being set to 0.0 in labels with no predicted samples. Use `zero_division` parameter to control this behavior.\n",
      "  _warn_prf(average, modifier, f\"{metric.capitalize()} is\", len(result))\n",
      "c:\\Users\\USER\\Desktop\\Personal\\Bits\\.venv\\Lib\\site-packages\\sklearn\\metrics\\_classification.py:1565: UndefinedMetricWarning: Precision is ill-defined and being set to 0.0 in labels with no predicted samples. Use `zero_division` parameter to control this behavior.\n",
      "  _warn_prf(average, modifier, f\"{metric.capitalize()} is\", len(result))\n"
     ]
    }
   ],
   "source": [
    "#import a SVM model\n",
    "from sklearn.svm import SVC\n",
    "from sklearn.model_selection import GridSearchCV\n",
    "\n",
    "\n",
    "#grid search for best hyperparameters\n",
    "param_grid = {'C': [0.1, 1, 10, 100, 1000], 'gamma': [1, 0.1, 0.01, 0.001, 0.0001], 'kernel': ['linear','poly','rbf']}\n",
    "grid = GridSearchCV(SVC(), param_grid, refit=True, verbose=0)\n",
    "grid.fit(train_df, y_train_desease)\n",
    "\n",
    "print(grid.best_params_)\n",
    "C=grid.best_params_['C']\n",
    "gamma=grid.best_params_['gamma']\n",
    "kernel=grid.best_params_['kernel']\n",
    "#train the model with the best hyperparameters\n",
    "model = SVC(C=C, gamma=gamma, kernel=kernel)\n",
    "\n",
    "# model = SVC(C=100, gamma=0.1, kernel='rbf')\n",
    "model.fit(train_df, y_train_desease)\n",
    "\n",
    "#predict the test set\n",
    "predictions = model.predict(test_df)\n",
    "\n",
    "from sklearn.metrics import classification_report, confusion_matrix\n",
    "print(confusion_matrix(y_test_desease, predictions))\n",
    "print(classification_report(y_test_desease, predictions))\n",
    "\n",
    "\n"
   ]
  },
  {
   "cell_type": "code",
   "execution_count": 65,
   "metadata": {},
   "outputs": [
    {
     "data": {
      "text/plain": [
       "Index(['Sex', 'Age at diagnosis', 'Binary diagnosis', 'Final diagnosis',\n",
       "       'TOBACCO', 'Comorbidities', 'Pathology Pattern Binary',\n",
       "       'Multidsciplinary committee', 'Pirfenidone', 'Nintedanib',\n",
       "       'Antifibrotic Drug', 'Prednisone', 'Mycophenolate',\n",
       "       'Extrapulmonary affectation', 'Associated lung cancer', 'Other cancer',\n",
       "       'Blood count abnormality at diagnosis', 'Anemia', 'Thrombocytopenia',\n",
       "       'Thrombocytosis', 'Lymphocytosis', 'Lymphopenia', 'Neutrophilia',\n",
       "       'Neutropenia', 'Leukocytosis', 'Leukopenia', 'Hematologic Disease',\n",
       "       'Liver abnormality', 'LDH', 'ALT', 'AST', 'ALP', 'GGT', 'Transaminitis',\n",
       "       'Cholestasis', 'Liver disease', 'FVC (L) at diagnosis',\n",
       "       'FVC (%) at diagnosis', 'DLCO (%) at diagnosis',\n",
       "       'FVC (L) 1 year after diagnosis', 'FVC (%) 1 year after diagnosis',\n",
       "       'DLCO (%) 1 year after diagnosis', 'RadioWorsening2y',\n",
       "       'Transplantation', 'Type of family history', '1st degree relative',\n",
       "       '2nd degree relative', 'More than 1 relative',\n",
       "       'Genetic mutation studied in patient',\n",
       "       'Severity of telomere shortening'],\n",
       "      dtype='object')"
      ]
     },
     "execution_count": 65,
     "metadata": {},
     "output_type": "execute_result"
    }
   ],
   "source": [
    "train_df.columns"
   ]
  },
  {
   "cell_type": "code",
   "execution_count": 81,
   "metadata": {
    "vscode": {
     "languageId": "javascript"
    }
   },
   "outputs": [],
   "source": [
    "param_grid = {\n",
    "    'n_estimators': [100, 200, 300, 400, 500],\n",
    "    'max_depth': [3, 4, 5, 6, 7, 8, 9, 10],\n",
    "    'learning_rate': [0.01, 0.05, 0.1, 0.2],\n",
    "    'subsample': [0.6, 0.7, 0.8, 0.9, 1.0],\n",
    "    'colsample_bytree': [0.6, 0.7, 0.8, 0.9, 1.0],\n",
    "    'gamma': [0, 0.1, 0.2, 0.3, 0.4, 0.5]\n",
    "}"
   ]
  },
  {
   "cell_type": "code",
   "execution_count": null,
   "metadata": {},
   "outputs": [
    {
     "name": "stderr",
     "output_type": "stream",
     "text": [
      "c:\\Users\\USER\\Desktop\\Personal\\Bits\\.venv\\Lib\\site-packages\\sklearn\\utils\\_tags.py:354: FutureWarning: The XGBClassifier or classes from which it inherits use `_get_tags` and `_more_tags`. Please define the `__sklearn_tags__` method, or inherit from `sklearn.base.BaseEstimator` and/or other appropriate mixins such as `sklearn.base.TransformerMixin`, `sklearn.base.ClassifierMixin`, `sklearn.base.RegressorMixin`, and `sklearn.base.OutlierMixin`. From scikit-learn 1.7, not defining `__sklearn_tags__` will raise an error.\n",
      "  warnings.warn(\n"
     ]
    },
    {
     "ename": "AttributeError",
     "evalue": "'super' object has no attribute '__sklearn_tags__'",
     "output_type": "error",
     "traceback": [
      "\u001b[1;31m---------------------------------------------------------------------------\u001b[0m",
      "\u001b[1;31mAttributeError\u001b[0m                            Traceback (most recent call last)",
      "Cell \u001b[1;32mIn[82], line 11\u001b[0m\n\u001b[0;32m      8\u001b[0m \u001b[38;5;66;03m#Grid search for best hyperparameters\u001b[39;00m\n\u001b[0;32m      9\u001b[0m \u001b[38;5;66;03m# param_grid = {'n_estimators': [100, 200, 300, 400, 500], 'max_depth': [1, 2, 3, 4, 5, 6, 7, 8, 9, 10]}\u001b[39;00m\n\u001b[0;32m     10\u001b[0m grid \u001b[38;5;241m=\u001b[39m GridSearchCV(XGBClassifier(), param_grid, refit\u001b[38;5;241m=\u001b[39m\u001b[38;5;28;01mTrue\u001b[39;00m, verbose\u001b[38;5;241m=\u001b[39m\u001b[38;5;241m0\u001b[39m)\n\u001b[1;32m---> 11\u001b[0m \u001b[43mgrid\u001b[49m\u001b[38;5;241;43m.\u001b[39;49m\u001b[43mfit\u001b[49m\u001b[43m(\u001b[49m\u001b[43mtrain_no_2y\u001b[49m\u001b[43m,\u001b[49m\u001b[43m \u001b[49m\u001b[43my_train_death\u001b[49m\u001b[43m)\u001b[49m\n",
      "File \u001b[1;32mc:\\Users\\USER\\Desktop\\Personal\\Bits\\.venv\\Lib\\site-packages\\sklearn\\base.py:1389\u001b[0m, in \u001b[0;36m_fit_context.<locals>.decorator.<locals>.wrapper\u001b[1;34m(estimator, *args, **kwargs)\u001b[0m\n\u001b[0;32m   1382\u001b[0m     estimator\u001b[38;5;241m.\u001b[39m_validate_params()\n\u001b[0;32m   1384\u001b[0m \u001b[38;5;28;01mwith\u001b[39;00m config_context(\n\u001b[0;32m   1385\u001b[0m     skip_parameter_validation\u001b[38;5;241m=\u001b[39m(\n\u001b[0;32m   1386\u001b[0m         prefer_skip_nested_validation \u001b[38;5;129;01mor\u001b[39;00m global_skip_validation\n\u001b[0;32m   1387\u001b[0m     )\n\u001b[0;32m   1388\u001b[0m ):\n\u001b[1;32m-> 1389\u001b[0m     \u001b[38;5;28;01mreturn\u001b[39;00m \u001b[43mfit_method\u001b[49m\u001b[43m(\u001b[49m\u001b[43mestimator\u001b[49m\u001b[43m,\u001b[49m\u001b[43m \u001b[49m\u001b[38;5;241;43m*\u001b[39;49m\u001b[43margs\u001b[49m\u001b[43m,\u001b[49m\u001b[43m \u001b[49m\u001b[38;5;241;43m*\u001b[39;49m\u001b[38;5;241;43m*\u001b[39;49m\u001b[43mkwargs\u001b[49m\u001b[43m)\u001b[49m\n",
      "File \u001b[1;32mc:\\Users\\USER\\Desktop\\Personal\\Bits\\.venv\\Lib\\site-packages\\sklearn\\model_selection\\_search.py:932\u001b[0m, in \u001b[0;36mBaseSearchCV.fit\u001b[1;34m(self, X, y, **params)\u001b[0m\n\u001b[0;32m    928\u001b[0m params \u001b[38;5;241m=\u001b[39m _check_method_params(X, params\u001b[38;5;241m=\u001b[39mparams)\n\u001b[0;32m    930\u001b[0m routed_params \u001b[38;5;241m=\u001b[39m \u001b[38;5;28mself\u001b[39m\u001b[38;5;241m.\u001b[39m_get_routed_params_for_fit(params)\n\u001b[1;32m--> 932\u001b[0m cv_orig \u001b[38;5;241m=\u001b[39m check_cv(\u001b[38;5;28mself\u001b[39m\u001b[38;5;241m.\u001b[39mcv, y, classifier\u001b[38;5;241m=\u001b[39m\u001b[43mis_classifier\u001b[49m\u001b[43m(\u001b[49m\u001b[43mestimator\u001b[49m\u001b[43m)\u001b[49m)\n\u001b[0;32m    933\u001b[0m n_splits \u001b[38;5;241m=\u001b[39m cv_orig\u001b[38;5;241m.\u001b[39mget_n_splits(X, y, \u001b[38;5;241m*\u001b[39m\u001b[38;5;241m*\u001b[39mrouted_params\u001b[38;5;241m.\u001b[39msplitter\u001b[38;5;241m.\u001b[39msplit)\n\u001b[0;32m    935\u001b[0m base_estimator \u001b[38;5;241m=\u001b[39m clone(\u001b[38;5;28mself\u001b[39m\u001b[38;5;241m.\u001b[39mestimator)\n",
      "File \u001b[1;32mc:\\Users\\USER\\Desktop\\Personal\\Bits\\.venv\\Lib\\site-packages\\sklearn\\base.py:1237\u001b[0m, in \u001b[0;36mis_classifier\u001b[1;34m(estimator)\u001b[0m\n\u001b[0;32m   1230\u001b[0m     warnings\u001b[38;5;241m.\u001b[39mwarn(\n\u001b[0;32m   1231\u001b[0m         \u001b[38;5;124mf\u001b[39m\u001b[38;5;124m\"\u001b[39m\u001b[38;5;124mpassing a class to \u001b[39m\u001b[38;5;132;01m{\u001b[39;00m\u001b[38;5;28mprint\u001b[39m(inspect\u001b[38;5;241m.\u001b[39mstack()[\u001b[38;5;241m0\u001b[39m][\u001b[38;5;241m3\u001b[39m])\u001b[38;5;132;01m}\u001b[39;00m\u001b[38;5;124m is deprecated and \u001b[39m\u001b[38;5;124m\"\u001b[39m\n\u001b[0;32m   1232\u001b[0m         \u001b[38;5;124m\"\u001b[39m\u001b[38;5;124mwill be removed in 1.8. Use an instance of the class instead.\u001b[39m\u001b[38;5;124m\"\u001b[39m,\n\u001b[0;32m   1233\u001b[0m         \u001b[38;5;167;01mFutureWarning\u001b[39;00m,\n\u001b[0;32m   1234\u001b[0m     )\n\u001b[0;32m   1235\u001b[0m     \u001b[38;5;28;01mreturn\u001b[39;00m \u001b[38;5;28mgetattr\u001b[39m(estimator, \u001b[38;5;124m\"\u001b[39m\u001b[38;5;124m_estimator_type\u001b[39m\u001b[38;5;124m\"\u001b[39m, \u001b[38;5;28;01mNone\u001b[39;00m) \u001b[38;5;241m==\u001b[39m \u001b[38;5;124m\"\u001b[39m\u001b[38;5;124mclassifier\u001b[39m\u001b[38;5;124m\"\u001b[39m\n\u001b[1;32m-> 1237\u001b[0m \u001b[38;5;28;01mreturn\u001b[39;00m \u001b[43mget_tags\u001b[49m\u001b[43m(\u001b[49m\u001b[43mestimator\u001b[49m\u001b[43m)\u001b[49m\u001b[38;5;241m.\u001b[39mestimator_type \u001b[38;5;241m==\u001b[39m \u001b[38;5;124m\"\u001b[39m\u001b[38;5;124mclassifier\u001b[39m\u001b[38;5;124m\"\u001b[39m\n",
      "File \u001b[1;32mc:\\Users\\USER\\Desktop\\Personal\\Bits\\.venv\\Lib\\site-packages\\sklearn\\utils\\_tags.py:405\u001b[0m, in \u001b[0;36mget_tags\u001b[1;34m(estimator)\u001b[0m\n\u001b[0;32m    403\u001b[0m \u001b[38;5;28;01mfor\u001b[39;00m klass \u001b[38;5;129;01min\u001b[39;00m \u001b[38;5;28mreversed\u001b[39m(\u001b[38;5;28mtype\u001b[39m(estimator)\u001b[38;5;241m.\u001b[39mmro()):\n\u001b[0;32m    404\u001b[0m     \u001b[38;5;28;01mif\u001b[39;00m \u001b[38;5;124m\"\u001b[39m\u001b[38;5;124m__sklearn_tags__\u001b[39m\u001b[38;5;124m\"\u001b[39m \u001b[38;5;129;01min\u001b[39;00m \u001b[38;5;28mvars\u001b[39m(klass):\n\u001b[1;32m--> 405\u001b[0m         sklearn_tags_provider[klass] \u001b[38;5;241m=\u001b[39m \u001b[43mklass\u001b[49m\u001b[38;5;241;43m.\u001b[39;49m\u001b[43m__sklearn_tags__\u001b[49m\u001b[43m(\u001b[49m\u001b[43mestimator\u001b[49m\u001b[43m)\u001b[49m  \u001b[38;5;66;03m# type: ignore[attr-defined]\u001b[39;00m\n\u001b[0;32m    406\u001b[0m         class_order\u001b[38;5;241m.\u001b[39mappend(klass)\n\u001b[0;32m    407\u001b[0m     \u001b[38;5;28;01melif\u001b[39;00m \u001b[38;5;124m\"\u001b[39m\u001b[38;5;124m_more_tags\u001b[39m\u001b[38;5;124m\"\u001b[39m \u001b[38;5;129;01min\u001b[39;00m \u001b[38;5;28mvars\u001b[39m(klass):\n",
      "File \u001b[1;32mc:\\Users\\USER\\Desktop\\Personal\\Bits\\.venv\\Lib\\site-packages\\sklearn\\base.py:540\u001b[0m, in \u001b[0;36mClassifierMixin.__sklearn_tags__\u001b[1;34m(self)\u001b[0m\n\u001b[0;32m    539\u001b[0m \u001b[38;5;28;01mdef\u001b[39;00m \u001b[38;5;21m__sklearn_tags__\u001b[39m(\u001b[38;5;28mself\u001b[39m):\n\u001b[1;32m--> 540\u001b[0m     tags \u001b[38;5;241m=\u001b[39m \u001b[38;5;28;43msuper\u001b[39;49m\u001b[43m(\u001b[49m\u001b[43m)\u001b[49m\u001b[38;5;241;43m.\u001b[39;49m\u001b[43m__sklearn_tags__\u001b[49m()\n\u001b[0;32m    541\u001b[0m     tags\u001b[38;5;241m.\u001b[39mestimator_type \u001b[38;5;241m=\u001b[39m \u001b[38;5;124m\"\u001b[39m\u001b[38;5;124mclassifier\u001b[39m\u001b[38;5;124m\"\u001b[39m\n\u001b[0;32m    542\u001b[0m     tags\u001b[38;5;241m.\u001b[39mclassifier_tags \u001b[38;5;241m=\u001b[39m ClassifierTags()\n",
      "\u001b[1;31mAttributeError\u001b[0m: 'super' object has no attribute '__sklearn_tags__'"
     ]
    }
   ],
   "source": [
    "from sklearn.tree import DecisionTreeClassifier\n",
    "from sklearn.metrics import classification_report\n",
    "from sklearn.ensemble import RandomForestClassifier\n",
    "from xgboost import XGBClassifier\n",
    "train_no_2y = train_df.drop('RadioWorsening2y', axis=1)\n",
    "test_no_2y = test_df.drop('RadioWorsening2y', axis=1)\n",
    "xgb = XGBClassifier()\n",
    "\n",
    "dtrain_reg = xgb.DMatrix(train_no_2y, y_train_death, enable_categorical=True)\n",
    "dtest_reg = xgb.DMatrix(X_test, y_test, enable_categorical=True)\n",
    "#Grid search for best hyperparameters\n",
    "# param_grid = {'n_estimators': [100, 200, 300, 400, 500], 'max_depth': [1, 2, 3, 4, 5, 6, 7, 8, 9, 10]}\n",
    "# grid = GridSearchCV(XGBClassifier(), param_grid, refit=True, verbose=0)\n",
    "grid.fit(train_no_2y, y_train_death)\n",
    "\n",
    "\n"
   ]
  },
  {
   "cell_type": "code",
   "execution_count": null,
   "metadata": {},
   "outputs": [],
   "source": []
  },
  {
   "cell_type": "code",
   "execution_count": 48,
   "metadata": {},
   "outputs": [
    {
     "name": "stdout",
     "output_type": "stream",
     "text": [
      "Sex: 0.0\n",
      "Age at diagnosis: 0.0\n",
      "Binary diagnosis: 0.0\n",
      "Final diagnosis: 0.0\n",
      "TOBACCO: 0.0\n",
      "Comorbidities: 0.0\n",
      "Pathology Pattern Binary: 0.0\n",
      "Multidsciplinary committee: 0.0\n",
      "Pirfenidone: 0.0\n",
      "Nintedanib: 0.0\n",
      "Antifibrotic Drug: 0.0\n",
      "Prednisone: 0.0\n",
      "Mycophenolate: 0.0\n",
      "Extrapulmonary affectation: 0.0\n",
      "Associated lung cancer: 0.0\n",
      "Other cancer: 0.0\n",
      "Blood count abnormality at diagnosis: 0.0\n",
      "Anemia: 0.0\n",
      "Thrombocytopenia: 0.0\n",
      "Thrombocytosis: 0.0\n",
      "Lymphocytosis: 0.0\n",
      "Lymphopenia: 0.0\n",
      "Neutrophilia: 0.0\n",
      "Neutropenia: 0.0\n",
      "Leukocytosis: 0.0\n",
      "Leukopenia: 0.0\n",
      "Hematologic Disease: 0.0\n",
      "Liver abnormality: 0.0\n",
      "LDH: 0.0\n",
      "ALT: 0.0\n",
      "AST: 0.0\n",
      "ALP: 0.0\n",
      "GGT: 0.0\n",
      "Transaminitis: 0.0\n",
      "Cholestasis: 0.0\n",
      "Liver disease: 0.0\n",
      "FVC (L) at diagnosis: 0.0\n",
      "FVC (%) at diagnosis: 0.0\n",
      "DLCO (%) at diagnosis: 0.0\n",
      "FVC (L) 1 year after diagnosis: 0.0\n",
      "FVC (%) 1 year after diagnosis: 0.11495500437462897\n",
      "DLCO (%) 1 year after diagnosis: 0.0\n",
      "RadioWorsening2y: 0.885044995625371\n",
      "Transplantation: 0.0\n",
      "Type of family history: 0.0\n",
      "1st degree relative: 0.0\n",
      "2nd degree relative: 0.0\n",
      "More than 1 relative: 0.0\n",
      "Genetic mutation studied in patient: 0.0\n",
      "Severity of telomere shortening: 0.0\n"
     ]
    }
   ],
   "source": [
    "for i in range(len(train_df.columns)):\n",
    "    print(f'{train_df.columns[i]}: {dtc.feature_importances_[i]}')"
   ]
  },
  {
   "cell_type": "code",
   "execution_count": 54,
   "metadata": {},
   "outputs": [
    {
     "data": {
      "text/plain": [
       "array([0., 1., 3.])"
      ]
     },
     "execution_count": 54,
     "metadata": {},
     "output_type": "execute_result"
    }
   ],
   "source": [
    "train_df[\"RadioWorsening2y\"].unique()"
   ]
  },
  {
   "cell_type": "code",
   "execution_count": 57,
   "metadata": {},
   "outputs": [],
   "source": [
    "import numpy as np"
   ]
  },
  {
   "cell_type": "code",
   "execution_count": 60,
   "metadata": {},
   "outputs": [
    {
     "data": {
      "image/png": "[encoded data removed]",
      "text/plain": [
       "<Figure size 800x600 with 1 Axes>"
      ]
     },
     "metadata": {},
     "output_type": "display_data"
    }
   ],
   "source": [
    "# bivariate plot of the variable with the highest importance with target variable \n",
    "cross_tab = pd.crosstab(train_df[\"Transplantation\"], y_train_death)\n",
    "\n",
    "# Gráfico de barras agrupado\n",
    "fig, ax = plt.subplots(figsize=(8, 6))\n",
    "\n",
    "x = np.arange(len(cross_tab.index))  # Posiciones en el eje X (0, 1, 3)\n",
    "width = 0.4  # Ancho de las barras\n",
    "\n",
    "# Barras para cada categoría de y_train_desease\n",
    "bar1 = ax.bar(x - width / 2, cross_tab[0], width, label=\"y_train_desease = 0\", color=\"skyblue\")\n",
    "bar2 = ax.bar(x + width / 2, cross_tab[1], width, label=\"y_train_desease = 1\", color=\"orange\")\n",
    "\n",
    "# Etiquetas y formato\n",
    "ax.set_xlabel(\"RadioWorsening2y\", fontsize=12)\n",
    "ax.set_ylabel(\"Frequency\", fontsize=12)\n",
    "ax.set_title(\"Relationship between RadioWorsening2y and y_train_desease\", fontsize=14)\n",
    "ax.set_xticks(x)\n",
    "ax.set_xticklabels(cross_tab.index)\n",
    "ax.legend()\n",
    "\n",
    "# Muestra los valores sobre las barras para mayor claridad\n",
    "for bars in [bar1, bar2]:\n",
    "    for bar in bars:\n",
    "        height = bar.get_height()\n",
    "        if height > 0:  # Muestra solo si la barra tiene altura\n",
    "            ax.text(bar.get_x() + bar.get_width() / 2, height + 0.2, int(height),\n",
    "                    ha=\"center\", va=\"bottom\", fontsize=10)\n",
    "\n",
    "plt.tight_layout()\n",
    "plt.show()\n"
   ]
  }
 ],
 "metadata": {
  "kernelspec": {
   "display_name": ".venv",
   "language": "python",
   "name": "python3"
  },
  "language_info": {
   "codemirror_mode": {
    "name": "ipython",
    "version": 3
   },
   "file_extension": ".py",
   "mimetype": "text/x-python",
   "name": "python",
   "nbconvert_exporter": "python",
   "pygments_lexer": "ipython3",
   "version": "3.12.8"
  }
 },
 "nbformat": 4,
 "nbformat_minor": 2
}
