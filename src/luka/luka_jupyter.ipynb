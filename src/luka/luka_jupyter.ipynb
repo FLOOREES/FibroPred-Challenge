{
 "cells": [
  {
   "cell_type": "code",
   "execution_count": 1,
   "metadata": {},
   "outputs": [],
   "source": [
    "import pandas as pd\n",
    "from sklearn.model_selection import train_test_split\n",
    "import matplotlib.pyplot as plt   "
   ]
  },
  {
   "cell_type": "code",
   "execution_count": 2,
   "metadata": {},
   "outputs": [
    {
     "name": "stdout",
     "output_type": "stream",
     "text": [
      "0\n",
      "0\n",
      "(210, 77)\n"
     ]
    }
   ],
   "source": [
    "# Load your dataset\n",
    "df = pd.read_csv(\"../../data/output.csv\")\n",
    "df = df.dropna(subset=[\"Death\", \"Progressive disease\"])\n",
    "print(df[\"Death\"].isna().sum())\n",
    "print(df[\"Progressive disease\"].isna().sum())\n",
    "\n",
    "print(df.shape)"
   ]
  },
  {
   "cell_type": "code",
   "execution_count": 3,
   "metadata": {},
   "outputs": [
    {
     "data": {
      "image/png": "[encoded data removed]",
      "text/plain": [
       "<Figure size 640x480 with 2 Axes>"
      ]
     },
     "metadata": {},
     "output_type": "display_data"
    },
    {
     "name": "stdout",
     "output_type": "stream",
     "text": [
      "(210, 76)\n"
     ]
    }
   ],
   "source": [
    "fig, axs = plt.subplots(1, 2)\n",
    "fig.suptitle('Target variables distribution')\n",
    "axs[0].hist(df[\"Death\"])\n",
    "axs[1].hist(df[\"Progressive disease\"])\n",
    "plt.show()\n",
    "df = df.drop(columns=[\"ProgressiveDisease\"])\n",
    "\n",
    "print(df.shape)"
   ]
  },
  {
   "cell_type": "code",
   "execution_count": 4,
   "metadata": {},
   "outputs": [],
   "source": [
    "X = df.drop(columns=[\"Death\", \"Progressive disease\"]) # Features\n",
    "y = df[[\"Death\", \"Progressive disease\"]]  # Target variable"
   ]
  },
  {
   "cell_type": "code",
   "execution_count": 5,
   "metadata": {},
   "outputs": [
    {
     "name": "stdout",
     "output_type": "stream",
     "text": [
      "The train.csv and test.csv files have been created successfully, including both target columns.\n"
     ]
    }
   ],
   "source": [
    "X_train, X_test, y_train, y_test = train_test_split(X, y, test_size=0.15, random_state=42)\n",
    "\n",
    "train_df = pd.concat([X_train, y_train], axis=1)\n",
    "test_df = pd.concat([X_test, y_test], axis=1)\n",
    "\n",
    "train_df.to_csv(\"../../data/train.csv\", index=False)\n",
    "test_df.to_csv(\"../../data/test.csv\", index=False)\n",
    "\n",
    "print(\"The train.csv and test.csv files have been created successfully, including both target columns.\")"
   ]
  },
  {
   "cell_type": "code",
   "execution_count": 9,
   "metadata": {},
   "outputs": [
    {
     "name": "stdout",
     "output_type": "stream",
     "text": [
      "Extra: 98.57142857142858%\n",
      "Identified Infection: 97.14285714285714%\n",
      "Mutation Type: 89.04761904761904%\n",
      "Hematological abnormality before diagnosis: 87.61904761904762%\n",
      "Type of telomeric extrapulmonary affectation: 86.19047619047619%\n",
      "Type of neoplasia: 85.23809523809524%\n",
      "Extras AP: 84.28571428571429%\n",
      "Detail on NON UIP: 73.80952380952381%\n",
      "Type of liver abnormality: 71.42857142857143%\n",
      "Detail: 69.52380952380952%\n",
      "Pathology pattern UIP, probable or CHP: 60.952380952380956%\n",
      "Pathology Pattern Binary: 56.666666666666664%\n",
      "Severity of telomere shortening - Transform 4: 33.33333333333333%\n",
      "Severity of telomere shortening: 31.9047619047619%\n",
      "Cause of death: 18.095238095238095%\n",
      "Genetic mutation studied in patient: 8.095238095238095%\n",
      "Liver abnormality before diagnosis: 8.095238095238095%\n",
      "Date of death: 5.714285714285714%\n",
      "Transplantation date: 2.380952380952381%\n",
      "DLCO (%) 1 year after diagnosis: 1.9047619047619049%\n",
      "Treatment: 1.9047619047619049%\n",
      "Pathology pattern: 1.9047619047619049%\n",
      "Liver disease: 1.4285714285714286%\n",
      "Biopsy: 1.4285714285714286%\n",
      "FVC (%) 1 year after diagnosis: 0.9523809523809524%\n",
      "Leukopenia: 0.9523809523809524%\n",
      "Blood count abnormality at diagnosis: 0.9523809523809524%\n",
      "FVC (L) 1 year after diagnosis: 0.9523809523809524%\n",
      "Extrapulmonary affectation: 0.9523809523809524%\n",
      "Associated lung cancer: 0.4761904761904762%\n",
      "Other cancer: 0.4761904761904762%\n",
      "Leukocytosis: 0.4761904761904762%\n",
      "Anemia: 0.4761904761904762%\n",
      "Thrombocytopenia: 0.4761904761904762%\n",
      "Age at diagnosis: 0.4761904761904762%\n",
      "Type of family history: 0.4761904761904762%\n",
      "Cholestasis: 0.0%\n",
      "FVC (%) at diagnosis: 0.0%\n",
      "FVC (L) at diagnosis: 0.0%\n",
      "Pedigree: 0.0%\n",
      "DLCO (%) at diagnosis: 0.0%\n",
      "RadioWorsening2y: 0.0%\n",
      "GGT: 0.0%\n",
      "Necessity of transplantation: 0.0%\n",
      "Death: 0.0%\n",
      "1st degree relative: 0.0%\n",
      "2nd degree relative: 0.0%\n",
      "More than 1 relative: 0.0%\n",
      "Transaminitis: 0.0%\n",
      "Neutrophilia: 0.0%\n",
      "ALP: 0.0%\n",
      "AST: 0.0%\n",
      "FamilialvsSporadic: 0.0%\n",
      "COD NUMBER: 0.0%\n",
      "Binary diagnosis: 0.0%\n",
      "Final diagnosis: 0.0%\n",
      "TOBACCO: 0.0%\n",
      "Comorbidities: 0.0%\n",
      "Radiological Pattern: 0.0%\n",
      "Diagnosis after Biopsy: 0.0%\n",
      "Multidsciplinary committee: 0.0%\n",
      "Pirfenidone: 0.0%\n",
      "Nintedanib: 0.0%\n",
      "Antifibrotic Drug: 0.0%\n",
      "Prednisone: 0.0%\n",
      "Mycophenolate: 0.0%\n",
      "Thrombocytosis: 0.0%\n",
      "Lymphocytosis: 0.0%\n",
      "Lymphopenia: 0.0%\n",
      "Sex: 0.0%\n",
      "Neutropenia: 0.0%\n",
      "Hematologic Disease: 0.0%\n",
      "Liver abnormality: 0.0%\n",
      "LDH: 0.0%\n",
      "ALT: 0.0%\n",
      "Progressive disease: 0.0%\n",
      "\n",
      "\n",
      "Columns with more than 10% missing values: ['Extra', 'Identified Infection', 'Mutation Type', 'Hematological abnormality before diagnosis', 'Type of telomeric extrapulmonary affectation', 'Type of neoplasia', 'Extras AP', 'Detail on NON UIP', 'Type of liver abnormality', 'Detail', 'Pathology pattern UIP, probable or CHP', 'Pathology Pattern Binary', 'Severity of telomere shortening - Transform 4', 'Severity of telomere shortening', 'Cause of death']\n",
      "Columns with less than 10% missing values: ['Genetic mutation studied in patient', 'Liver abnormality before diagnosis', 'Date of death', 'Transplantation date', 'DLCO (%) 1 year after diagnosis', 'Treatment', 'Pathology pattern', 'Liver disease', 'Biopsy', 'FVC (%) 1 year after diagnosis', 'Leukopenia', 'Blood count abnormality at diagnosis', 'FVC (L) 1 year after diagnosis', 'Extrapulmonary affectation', 'Associated lung cancer', 'Other cancer', 'Leukocytosis', 'Anemia', 'Thrombocytopenia', 'Age at diagnosis', 'Type of family history', 'Cholestasis', 'FVC (%) at diagnosis', 'FVC (L) at diagnosis', 'Pedigree', 'DLCO (%) at diagnosis', 'RadioWorsening2y', 'GGT', 'Necessity of transplantation', 'Death', '1st degree relative', '2nd degree relative', 'More than 1 relative', 'Transaminitis', 'Neutrophilia', 'ALP', 'AST', 'FamilialvsSporadic', 'COD NUMBER', 'Binary diagnosis', 'Final diagnosis', 'TOBACCO', 'Comorbidities', 'Radiological Pattern', 'Diagnosis after Biopsy', 'Multidsciplinary committee', 'Pirfenidone', 'Nintedanib', 'Antifibrotic Drug', 'Prednisone', 'Mycophenolate', 'Thrombocytosis', 'Lymphocytosis', 'Lymphopenia', 'Sex', 'Neutropenia', 'Hematologic Disease', 'Liver abnormality', 'LDH', 'ALT', 'Progressive disease']\n",
      "number of columns with more than 10% missing values: 15\n",
      "number of columns with less than 10% missing values: 61\n"
     ]
    }
   ],
   "source": [
    "# Let's explore the missing values in the dataset\n",
    "# Lets print the percentage of missing values in each column order\n",
    "l = df.isnull().mean() * 100\n",
    "missing_thresh = 10\n",
    "\n",
    "# Lets order the columns by the percentage of missing values\n",
    "l = l.sort_values(ascending=False)\n",
    "more_missing = []\n",
    "less_missing = []\n",
    "for i in l.index:\n",
    "    if l[i] > missing_thresh:\n",
    "        more_missing.append(i)\n",
    "    else:\n",
    "        less_missing.append(i)\n",
    "\n",
    "    \n",
    "    print(f\"{i}: {l[i]}%\")\n",
    "\n",
    "print('')\n",
    "print('')\n",
    "\n",
    "print(f\"Columns with more than {missing_thresh}% missing values: {more_missing}\")\n",
    "print(f\"Columns with less than {missing_thresh}% missing values: {less_missing}\")\n",
    "\n",
    "print(f'number of columns with more than {missing_thresh}% missing values: {len(more_missing)}')\n",
    "print(f'number of columns with less than {missing_thresh}% missing values: {len(less_missing)}')\n"
   ]
  },
  {
   "cell_type": "code",
   "execution_count": null,
   "metadata": {},
   "outputs": [],
   "source": [
    "#ordenar las columnas de mas de 10% de missing values de mayor a menor´\n",
    "\n",
    "more_missing"
   ]
  }
 ],
 "metadata": {
  "kernelspec": {
   "display_name": "Python 3",
   "language": "python",
   "name": "python3"
  },
  "language_info": {
   "codemirror_mode": {
    "name": "ipython",
    "version": 3
   },
   "file_extension": ".py",
   "mimetype": "text/x-python",
   "name": "python",
   "nbconvert_exporter": "python",
   "pygments_lexer": "ipython3",
   "version": "3.11.9"
  }
 },
 "nbformat": 4,
 "nbformat_minor": 2
}
