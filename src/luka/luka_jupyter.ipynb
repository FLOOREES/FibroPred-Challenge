{
 "cells": [
  {
   "cell_type": "code",
   "execution_count": 23,
   "metadata": {},
   "outputs": [],
   "source": [
    "import pandas as pd"
   ]
  },
  {
   "cell_type": "code",
   "execution_count": 24,
   "metadata": {},
   "outputs": [],
   "source": [
    "data = pd.read_csv('../data/bbddfpfcodificada.csv')"
   ]
  },
  {
   "cell_type": "code",
   "execution_count": 25,
   "metadata": {},
   "outputs": [
    {
     "name": "stdout",
     "output_type": "stream",
     "text": [
      "Pacient\n",
      "Pedigree\n",
      "Sex\n",
      "FamilialvsSporadic\n",
      "NHC\n",
      "Age at diagnosis\n",
      "Swab\n",
      "Blood\n",
      "Binary diagnosis\n",
      "Final diagnosis\n",
      "TOBACCO\n",
      "Detail\n",
      "Comorbidities\n",
      "Radiological Pattern\n",
      "Detail on NON UIP\n",
      "Biopsy\n",
      "Pathology Pattern Binary\n",
      "Pathology pattern UIP, probable or CHP\n",
      "Pathology pattern\n",
      "Extras AP\n",
      "Diagnosis after Biopsy\n",
      "Multidsciplinary committee\n",
      "Pirfenidone\n",
      "Nintedanib\n",
      "Antifibrotic Drug\n",
      "Prednisone\n",
      "Mycophenolate\n",
      "Treatment\n",
      "Extrapulmonary affectation\n",
      "Type of telomeric extrapulmonary affectation\n",
      "Extra\n",
      "Associated lung cancer\n",
      "Other cancer\n",
      "Type of neoplasia\n",
      "Hematological abnormality before diagnosis\n",
      "Blood count abnormality at diagnosis\n",
      "Anemia\n",
      "Thrombocytopenia\n",
      "Thrombocytosis\n",
      "Lymphocytosis\n",
      "Lymphopenia\n",
      "Neutrophilia\n",
      "Neutropenia\n",
      "Leukocytosis\n",
      "Leukopenia\n",
      "Hematologic Disease\n",
      "Liver abnormality before diagnosis\n",
      "Liver abnormality\n",
      "LDH\n",
      "ALT\n",
      "AST\n",
      "ALP\n",
      "GGT\n",
      "Transaminitis\n",
      "Cholestasis\n",
      "Type of liver abnormality\n",
      "Liver disease\n",
      "FVC (L) at diagnosis\n",
      "FVC (%) at diagnosis\n",
      "DLCO (%) at diagnosis\n",
      "FVC (L) 1 year after diagnosis\n",
      "FVC (%) 1 year after diagnosis\n",
      "DLCO (%) 1 year after diagnosis\n",
      "RadioWorsening2y\n",
      "Necessity of transplantation\n",
      "Transplantation date\n",
      "Death\n",
      "Cause of death\n",
      "Identified Infection\n",
      "Date of death\n",
      "Type of family history\n",
      "1st degree relative\n",
      "2nd degree relative\n",
      "More than 1 relative\n",
      "Genetic mutation studied in patient\n",
      "Mutation Type\n",
      "Severity of telomere shortening\n",
      "Severity of telomere shortening - Transform 4\n",
      "Progressive disease\n",
      "ProgressiveDisease\n"
     ]
    }
   ],
   "source": [
    "for column in data.columns:\n",
    "    print(column)"
   ]
  },
  {
   "cell_type": "code",
   "execution_count": 26,
   "metadata": {},
   "outputs": [],
   "source": [
    "data = data.drop(columns=['ProgressiveDisease'])  "
   ]
  },
  {
   "cell_type": "markdown",
   "metadata": {},
   "source": [
    "nos petamos las variables que tienen missings "
   ]
  },
  {
   "cell_type": "code",
   "execution_count": 27,
   "metadata": {},
   "outputs": [
    {
     "name": "stdout",
     "output_type": "stream",
     "text": [
      "(203, 79)\n"
     ]
    }
   ],
   "source": [
    "data = data.dropna(subset=['Death','Progressive disease'])\n",
    "print(data.shape)"
   ]
  },
  {
   "cell_type": "code",
   "execution_count": null,
   "metadata": {},
   "outputs": [],
   "source": [
    "# count the number of missing values for each column\n",
    "missing_values = data.isnull().sum()\n"
   ]
  },
  {
   "cell_type": "code",
   "execution_count": 36,
   "metadata": {},
   "outputs": [
    {
     "ename": "AttributeError",
     "evalue": "'Series' object has no attribute 'columns'",
     "output_type": "error",
     "traceback": [
      "\u001b[1;31m---------------------------------------------------------------------------\u001b[0m",
      "\u001b[1;31mAttributeError\u001b[0m                            Traceback (most recent call last)",
      "\u001b[1;32m~\\AppData\\Local\\Temp\\ipykernel_20088\\280634853.py\u001b[0m in \u001b[0;36m?\u001b[1;34m()\u001b[0m\n\u001b[1;32m----> 1\u001b[1;33m \u001b[1;32mfor\u001b[0m \u001b[0mcolumn\u001b[0m \u001b[1;32min\u001b[0m \u001b[0mmissing_values\u001b[0m\u001b[1;33m.\u001b[0m\u001b[0mcolumns\u001b[0m\u001b[1;33m:\u001b[0m\u001b[1;33m\u001b[0m\u001b[1;33m\u001b[0m\u001b[0m\n\u001b[0m\u001b[0;32m      2\u001b[0m     \u001b[0mprint\u001b[0m\u001b[1;33m(\u001b[0m\u001b[0mcolumn\u001b[0m\u001b[1;33m,\u001b[0m \u001b[0mmissing_values\u001b[0m\u001b[1;33m[\u001b[0m\u001b[0mcolumn\u001b[0m\u001b[1;33m]\u001b[0m\u001b[1;33m)\u001b[0m\u001b[1;33m\u001b[0m\u001b[1;33m\u001b[0m\u001b[0m\n",
      "\u001b[1;32mc:\\Users\\lukag\\AppData\\Local\\Programs\\Python\\Python311\\Lib\\site-packages\\pandas\\core\\generic.py\u001b[0m in \u001b[0;36m?\u001b[1;34m(self, name)\u001b[0m\n\u001b[0;32m   6295\u001b[0m             \u001b[1;32mand\u001b[0m \u001b[0mname\u001b[0m \u001b[1;32mnot\u001b[0m \u001b[1;32min\u001b[0m \u001b[0mself\u001b[0m\u001b[1;33m.\u001b[0m\u001b[0m_accessors\u001b[0m\u001b[1;33m\u001b[0m\u001b[1;33m\u001b[0m\u001b[0m\n\u001b[0;32m   6296\u001b[0m             \u001b[1;32mand\u001b[0m \u001b[0mself\u001b[0m\u001b[1;33m.\u001b[0m\u001b[0m_info_axis\u001b[0m\u001b[1;33m.\u001b[0m\u001b[0m_can_hold_identifiers_and_holds_name\u001b[0m\u001b[1;33m(\u001b[0m\u001b[0mname\u001b[0m\u001b[1;33m)\u001b[0m\u001b[1;33m\u001b[0m\u001b[1;33m\u001b[0m\u001b[0m\n\u001b[0;32m   6297\u001b[0m         ):\n\u001b[0;32m   6298\u001b[0m             \u001b[1;32mreturn\u001b[0m \u001b[0mself\u001b[0m\u001b[1;33m[\u001b[0m\u001b[0mname\u001b[0m\u001b[1;33m]\u001b[0m\u001b[1;33m\u001b[0m\u001b[1;33m\u001b[0m\u001b[0m\n\u001b[1;32m-> 6299\u001b[1;33m         \u001b[1;32mreturn\u001b[0m \u001b[0mobject\u001b[0m\u001b[1;33m.\u001b[0m\u001b[0m__getattribute__\u001b[0m\u001b[1;33m(\u001b[0m\u001b[0mself\u001b[0m\u001b[1;33m,\u001b[0m \u001b[0mname\u001b[0m\u001b[1;33m)\u001b[0m\u001b[1;33m\u001b[0m\u001b[1;33m\u001b[0m\u001b[0m\n\u001b[0m",
      "\u001b[1;31mAttributeError\u001b[0m: 'Series' object has no attribute 'columns'"
     ]
    }
   ],
   "source": [
    "for column in missing_values.columns:\n",
    "    print(column, missing_values[column])"
   ]
  },
  {
   "cell_type": "code",
   "execution_count": null,
   "metadata": {},
   "outputs": [],
   "source": []
  }
 ],
 "metadata": {
  "kernelspec": {
   "display_name": "Python 3",
   "language": "python",
   "name": "python3"
  },
  "language_info": {
   "codemirror_mode": {
    "name": "ipython",
    "version": 3
   },
   "file_extension": ".py",
   "mimetype": "text/x-python",
   "name": "python",
   "nbconvert_exporter": "python",
   "pygments_lexer": "ipython3",
   "version": "3.11.9"
  }
 },
 "nbformat": 4,
 "nbformat_minor": 2
}
