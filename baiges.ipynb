{
 "cells": [
  {
   "cell_type": "code",
   "execution_count": 9,
   "metadata": {},
   "outputs": [],
   "source": [
    "# Load train dataset\n",
    "import pandas as pd\n",
    "import numpy as np\n",
    "import matplotlib.pyplot as plt\n",
    "\n",
    "# Load train and test dataset\n",
    "train = pd.read_csv('data/train.csv')\n",
    "test = pd.read_csv('data/test.csv')\n",
    "\n",
    "# Apply or between 'Death' and 'Transplantation' columns due to the fact would probably died if not applied transplant\n",
    "train['Death'] = train['Death'] | train['Transplantation']\n",
    "train = train.drop('Transplantation', axis=1)\n",
    "test['Death'] = test['Death'] | test['Transplantation']\n",
    "test = test.drop('Transplantation', axis=1)\n",
    "\n",
    "# Save new train and test datasets\n",
    "train.to_csv('data/train_y2.csv', index=False)\n",
    "test.to_csv('data/test_y2.csv', index=False)\n",
    "\n",
    "# Delete column 'RadioWorsening2y'\n",
    "\n",
    "train = train.drop('RadioWorsening2y', axis=1)\n",
    "test = test.drop('RadioWorsening2y', axis=1)\n",
    "\n",
    "# Save new train and test datasets\n",
    "train.to_csv('data/train_1y.csv', index=False)\n",
    "test.to_csv('data/test_1y.csv', index=False)\n",
    "\n",
    "# Delete columns 'FVC (L) 1 year after diagnosis', 'FVC (%) 1 year after diagnosis', 'DLCO (%) 1 year after diagnosis'\n",
    "\n",
    "train = train.drop(['FVC (L) 1 year after diagnosis', 'FVC (%) 1 year after diagnosis', 'DLCO (%) 1 year after diagnosis'], axis=1)\n",
    "test = test.drop(['FVC (L) 1 year after diagnosis', 'FVC (%) 1 year after diagnosis', 'DLCO (%) 1 year after diagnosis'], axis=1)\n",
    "\n",
    "# Save new train and test datasets\n",
    "train.to_csv('data/train_0y.csv', index=False)\n",
    "test.to_csv('data/test_0y.csv', index=False)"
   ]
  }
 ],
 "metadata": {
  "kernelspec": {
   "display_name": "Python 3",
   "language": "python",
   "name": "python3"
  },
  "language_info": {
   "codemirror_mode": {
    "name": "ipython",
    "version": 3
   },
   "file_extension": ".py",
   "mimetype": "text/x-python",
   "name": "python",
   "nbconvert_exporter": "python",
   "pygments_lexer": "ipython3",
   "version": "3.10.6"
  }
 },
 "nbformat": 4,
 "nbformat_minor": 2
}
